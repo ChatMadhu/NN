{
  "nbformat": 4,
  "nbformat_minor": 0,
  "metadata": {
    "colab": {
      "provenance": [],
      "include_colab_link": true
    },
    "kernelspec": {
      "name": "python3",
      "display_name": "Python 3"
    },
    "language_info": {
      "name": "python"
    }
  },
  "cells": [
    {
      "cell_type": "markdown",
      "metadata": {
        "id": "view-in-github",
        "colab_type": "text"
      },
      "source": [
        "<a href=\"https://colab.research.google.com/github/ChatMadhu/Wenner-Array-Sensor-Neural-Network/blob/main/Copy_of_Wenner_Array_K_Means_Clustering.ipynb\" target=\"_parent\"><img src=\"https://colab.research.google.com/assets/colab-badge.svg\" alt=\"Open In Colab\"/></a>"
      ]
    },
    {
      "cell_type": "code",
      "execution_count": null,
      "metadata": {
        "id": "828AP3HVlp1d"
      },
      "outputs": [],
      "source": [
        "import numpy as np\n",
        "import pandas as pd\n",
        "import seaborn as sns\n",
        "import matplotlib.pyplot as plt\n",
        "from sklearn.cluster import KMeans\n",
        "from sklearn.preprocessing import LabelEncoder\n",
        "from sklearn.preprocessing import MinMaxScaler\n"
      ]
    },
    {
      "cell_type": "code",
      "source": [
        "df = pd.read_csv('/content/Classification Data.csv')\n",
        "df"
      ],
      "metadata": {
        "colab": {
          "base_uri": "https://localhost:8080/",
          "height": 424
        },
        "id": "Y7WfauywPIld",
        "outputId": "650bc20c-d169-4b64-cc3b-59ab41d6daae"
      },
      "execution_count": null,
      "outputs": [
        {
          "output_type": "execute_result",
          "data": {
            "text/plain": [
              "     Wenner_Reading  Wenner_ECa_reading  Class  Clay_Percentage  Unnamed: 4  \\\n",
              "0               603            7.390279  other              5.6         NaN   \n",
              "1               905            4.924131   0.02              5.6         NaN   \n",
              "2              1030            4.326542      0              5.6         NaN   \n",
              "3               717            6.215256  other              5.6         NaN   \n",
              "4               878            5.075556   0.02              5.6         NaN   \n",
              "..              ...                 ...    ...              ...         ...   \n",
              "190             920            4.843846   0.02             23.0         NaN   \n",
              "191            1000            4.456338      0             23.0         NaN   \n",
              "192             988            4.510464      0             23.0         NaN   \n",
              "193             893            4.990301   0.02             23.0         NaN   \n",
              "194             956            4.661442   0.02             23.0         NaN   \n",
              "\n",
              "     True_Wenner_ECa_reading  \n",
              "0                   8.440560  \n",
              "1                   6.432912  \n",
              "2                   5.899739  \n",
              "3                   7.522680  \n",
              "4                   6.565123  \n",
              "..                       ...  \n",
              "190                 6.362340  \n",
              "191                 6.017092  \n",
              "192                 6.065775  \n",
              "193                 6.490829  \n",
              "194                 6.200782  \n",
              "\n",
              "[195 rows x 6 columns]"
            ],
            "text/html": [
              "\n",
              "  <div id=\"df-f1765bfa-c6d3-4f2f-9044-3960b79ef76c\">\n",
              "    <div class=\"colab-df-container\">\n",
              "      <div>\n",
              "<style scoped>\n",
              "    .dataframe tbody tr th:only-of-type {\n",
              "        vertical-align: middle;\n",
              "    }\n",
              "\n",
              "    .dataframe tbody tr th {\n",
              "        vertical-align: top;\n",
              "    }\n",
              "\n",
              "    .dataframe thead th {\n",
              "        text-align: right;\n",
              "    }\n",
              "</style>\n",
              "<table border=\"1\" class=\"dataframe\">\n",
              "  <thead>\n",
              "    <tr style=\"text-align: right;\">\n",
              "      <th></th>\n",
              "      <th>Wenner_Reading</th>\n",
              "      <th>Wenner_ECa_reading</th>\n",
              "      <th>Class</th>\n",
              "      <th>Clay_Percentage</th>\n",
              "      <th>Unnamed: 4</th>\n",
              "      <th>True_Wenner_ECa_reading</th>\n",
              "    </tr>\n",
              "  </thead>\n",
              "  <tbody>\n",
              "    <tr>\n",
              "      <th>0</th>\n",
              "      <td>603</td>\n",
              "      <td>7.390279</td>\n",
              "      <td>other</td>\n",
              "      <td>5.6</td>\n",
              "      <td>NaN</td>\n",
              "      <td>8.440560</td>\n",
              "    </tr>\n",
              "    <tr>\n",
              "      <th>1</th>\n",
              "      <td>905</td>\n",
              "      <td>4.924131</td>\n",
              "      <td>0.02</td>\n",
              "      <td>5.6</td>\n",
              "      <td>NaN</td>\n",
              "      <td>6.432912</td>\n",
              "    </tr>\n",
              "    <tr>\n",
              "      <th>2</th>\n",
              "      <td>1030</td>\n",
              "      <td>4.326542</td>\n",
              "      <td>0</td>\n",
              "      <td>5.6</td>\n",
              "      <td>NaN</td>\n",
              "      <td>5.899739</td>\n",
              "    </tr>\n",
              "    <tr>\n",
              "      <th>3</th>\n",
              "      <td>717</td>\n",
              "      <td>6.215256</td>\n",
              "      <td>other</td>\n",
              "      <td>5.6</td>\n",
              "      <td>NaN</td>\n",
              "      <td>7.522680</td>\n",
              "    </tr>\n",
              "    <tr>\n",
              "      <th>4</th>\n",
              "      <td>878</td>\n",
              "      <td>5.075556</td>\n",
              "      <td>0.02</td>\n",
              "      <td>5.6</td>\n",
              "      <td>NaN</td>\n",
              "      <td>6.565123</td>\n",
              "    </tr>\n",
              "    <tr>\n",
              "      <th>...</th>\n",
              "      <td>...</td>\n",
              "      <td>...</td>\n",
              "      <td>...</td>\n",
              "      <td>...</td>\n",
              "      <td>...</td>\n",
              "      <td>...</td>\n",
              "    </tr>\n",
              "    <tr>\n",
              "      <th>190</th>\n",
              "      <td>920</td>\n",
              "      <td>4.843846</td>\n",
              "      <td>0.02</td>\n",
              "      <td>23.0</td>\n",
              "      <td>NaN</td>\n",
              "      <td>6.362340</td>\n",
              "    </tr>\n",
              "    <tr>\n",
              "      <th>191</th>\n",
              "      <td>1000</td>\n",
              "      <td>4.456338</td>\n",
              "      <td>0</td>\n",
              "      <td>23.0</td>\n",
              "      <td>NaN</td>\n",
              "      <td>6.017092</td>\n",
              "    </tr>\n",
              "    <tr>\n",
              "      <th>192</th>\n",
              "      <td>988</td>\n",
              "      <td>4.510464</td>\n",
              "      <td>0</td>\n",
              "      <td>23.0</td>\n",
              "      <td>NaN</td>\n",
              "      <td>6.065775</td>\n",
              "    </tr>\n",
              "    <tr>\n",
              "      <th>193</th>\n",
              "      <td>893</td>\n",
              "      <td>4.990301</td>\n",
              "      <td>0.02</td>\n",
              "      <td>23.0</td>\n",
              "      <td>NaN</td>\n",
              "      <td>6.490829</td>\n",
              "    </tr>\n",
              "    <tr>\n",
              "      <th>194</th>\n",
              "      <td>956</td>\n",
              "      <td>4.661442</td>\n",
              "      <td>0.02</td>\n",
              "      <td>23.0</td>\n",
              "      <td>NaN</td>\n",
              "      <td>6.200782</td>\n",
              "    </tr>\n",
              "  </tbody>\n",
              "</table>\n",
              "<p>195 rows × 6 columns</p>\n",
              "</div>\n",
              "      <button class=\"colab-df-convert\" onclick=\"convertToInteractive('df-f1765bfa-c6d3-4f2f-9044-3960b79ef76c')\"\n",
              "              title=\"Convert this dataframe to an interactive table.\"\n",
              "              style=\"display:none;\">\n",
              "        \n",
              "  <svg xmlns=\"http://www.w3.org/2000/svg\" height=\"24px\"viewBox=\"0 0 24 24\"\n",
              "       width=\"24px\">\n",
              "    <path d=\"M0 0h24v24H0V0z\" fill=\"none\"/>\n",
              "    <path d=\"M18.56 5.44l.94 2.06.94-2.06 2.06-.94-2.06-.94-.94-2.06-.94 2.06-2.06.94zm-11 1L8.5 8.5l.94-2.06 2.06-.94-2.06-.94L8.5 2.5l-.94 2.06-2.06.94zm10 10l.94 2.06.94-2.06 2.06-.94-2.06-.94-.94-2.06-.94 2.06-2.06.94z\"/><path d=\"M17.41 7.96l-1.37-1.37c-.4-.4-.92-.59-1.43-.59-.52 0-1.04.2-1.43.59L10.3 9.45l-7.72 7.72c-.78.78-.78 2.05 0 2.83L4 21.41c.39.39.9.59 1.41.59.51 0 1.02-.2 1.41-.59l7.78-7.78 2.81-2.81c.8-.78.8-2.07 0-2.86zM5.41 20L4 18.59l7.72-7.72 1.47 1.35L5.41 20z\"/>\n",
              "  </svg>\n",
              "      </button>\n",
              "      \n",
              "  <style>\n",
              "    .colab-df-container {\n",
              "      display:flex;\n",
              "      flex-wrap:wrap;\n",
              "      gap: 12px;\n",
              "    }\n",
              "\n",
              "    .colab-df-convert {\n",
              "      background-color: #E8F0FE;\n",
              "      border: none;\n",
              "      border-radius: 50%;\n",
              "      cursor: pointer;\n",
              "      display: none;\n",
              "      fill: #1967D2;\n",
              "      height: 32px;\n",
              "      padding: 0 0 0 0;\n",
              "      width: 32px;\n",
              "    }\n",
              "\n",
              "    .colab-df-convert:hover {\n",
              "      background-color: #E2EBFA;\n",
              "      box-shadow: 0px 1px 2px rgba(60, 64, 67, 0.3), 0px 1px 3px 1px rgba(60, 64, 67, 0.15);\n",
              "      fill: #174EA6;\n",
              "    }\n",
              "\n",
              "    [theme=dark] .colab-df-convert {\n",
              "      background-color: #3B4455;\n",
              "      fill: #D2E3FC;\n",
              "    }\n",
              "\n",
              "    [theme=dark] .colab-df-convert:hover {\n",
              "      background-color: #434B5C;\n",
              "      box-shadow: 0px 1px 3px 1px rgba(0, 0, 0, 0.15);\n",
              "      filter: drop-shadow(0px 1px 2px rgba(0, 0, 0, 0.3));\n",
              "      fill: #FFFFFF;\n",
              "    }\n",
              "  </style>\n",
              "\n",
              "      <script>\n",
              "        const buttonEl =\n",
              "          document.querySelector('#df-f1765bfa-c6d3-4f2f-9044-3960b79ef76c button.colab-df-convert');\n",
              "        buttonEl.style.display =\n",
              "          google.colab.kernel.accessAllowed ? 'block' : 'none';\n",
              "\n",
              "        async function convertToInteractive(key) {\n",
              "          const element = document.querySelector('#df-f1765bfa-c6d3-4f2f-9044-3960b79ef76c');\n",
              "          const dataTable =\n",
              "            await google.colab.kernel.invokeFunction('convertToInteractive',\n",
              "                                                     [key], {});\n",
              "          if (!dataTable) return;\n",
              "\n",
              "          const docLinkHtml = 'Like what you see? Visit the ' +\n",
              "            '<a target=\"_blank\" href=https://colab.research.google.com/notebooks/data_table.ipynb>data table notebook</a>'\n",
              "            + ' to learn more about interactive tables.';\n",
              "          element.innerHTML = '';\n",
              "          dataTable['output_type'] = 'display_data';\n",
              "          await google.colab.output.renderOutput(dataTable, element);\n",
              "          const docLink = document.createElement('div');\n",
              "          docLink.innerHTML = docLinkHtml;\n",
              "          element.appendChild(docLink);\n",
              "        }\n",
              "      </script>\n",
              "    </div>\n",
              "  </div>\n",
              "  "
            ]
          },
          "metadata": {},
          "execution_count": 121
        }
      ]
    },
    {
      "cell_type": "code",
      "source": [
        "df.shape"
      ],
      "metadata": {
        "colab": {
          "base_uri": "https://localhost:8080/"
        },
        "id": "MprsxK8UPW73",
        "outputId": "8ae16106-50d1-46ff-b38f-7c137b6a898a"
      },
      "execution_count": null,
      "outputs": [
        {
          "output_type": "execute_result",
          "data": {
            "text/plain": [
              "(195, 6)"
            ]
          },
          "metadata": {},
          "execution_count": 124
        }
      ]
    },
    {
      "cell_type": "code",
      "source": [
        "df.info()\n"
      ],
      "metadata": {
        "colab": {
          "base_uri": "https://localhost:8080/"
        },
        "id": "spzmwY1kPl6G",
        "outputId": "b287c5ea-9739-483b-d031-cbc8f2d34331"
      },
      "execution_count": null,
      "outputs": [
        {
          "output_type": "stream",
          "name": "stdout",
          "text": [
            "<class 'pandas.core.frame.DataFrame'>\n",
            "RangeIndex: 195 entries, 0 to 194\n",
            "Data columns (total 6 columns):\n",
            " #   Column                   Non-Null Count  Dtype  \n",
            "---  ------                   --------------  -----  \n",
            " 0   Wenner_Reading           195 non-null    int64  \n",
            " 1   Wenner_ECa_reading       195 non-null    float64\n",
            " 2   Class                    195 non-null    object \n",
            " 3   Clay_Percentage          195 non-null    float64\n",
            " 4   Unnamed: 4               0 non-null      float64\n",
            " 5   True_Wenner_ECa_reading  195 non-null    float64\n",
            "dtypes: float64(4), int64(1), object(1)\n",
            "memory usage: 9.3+ KB\n"
          ]
        }
      ]
    },
    {
      "cell_type": "code",
      "source": [
        "cluster_df = df[['True_Wenner_ECa_reading','Clay_Percentage']]\n",
        "cluster_df"
      ],
      "metadata": {
        "colab": {
          "base_uri": "https://localhost:8080/",
          "height": 424
        },
        "id": "muSV_IretjQF",
        "outputId": "41994cd5-2579-4484-a50a-dece3d74b945"
      },
      "execution_count": null,
      "outputs": [
        {
          "output_type": "execute_result",
          "data": {
            "text/plain": [
              "     True_Wenner_ECa_reading  Clay_Percentage\n",
              "0                   8.440560              5.6\n",
              "1                   6.432912              5.6\n",
              "2                   5.899739              5.6\n",
              "3                   7.522680              5.6\n",
              "4                   6.565123              5.6\n",
              "..                       ...              ...\n",
              "190                 6.362340             23.0\n",
              "191                 6.017092             23.0\n",
              "192                 6.065775             23.0\n",
              "193                 6.490829             23.0\n",
              "194                 6.200782             23.0\n",
              "\n",
              "[195 rows x 2 columns]"
            ],
            "text/html": [
              "\n",
              "  <div id=\"df-005751e4-f736-4473-9349-19a1e282b23a\">\n",
              "    <div class=\"colab-df-container\">\n",
              "      <div>\n",
              "<style scoped>\n",
              "    .dataframe tbody tr th:only-of-type {\n",
              "        vertical-align: middle;\n",
              "    }\n",
              "\n",
              "    .dataframe tbody tr th {\n",
              "        vertical-align: top;\n",
              "    }\n",
              "\n",
              "    .dataframe thead th {\n",
              "        text-align: right;\n",
              "    }\n",
              "</style>\n",
              "<table border=\"1\" class=\"dataframe\">\n",
              "  <thead>\n",
              "    <tr style=\"text-align: right;\">\n",
              "      <th></th>\n",
              "      <th>True_Wenner_ECa_reading</th>\n",
              "      <th>Clay_Percentage</th>\n",
              "    </tr>\n",
              "  </thead>\n",
              "  <tbody>\n",
              "    <tr>\n",
              "      <th>0</th>\n",
              "      <td>8.440560</td>\n",
              "      <td>5.6</td>\n",
              "    </tr>\n",
              "    <tr>\n",
              "      <th>1</th>\n",
              "      <td>6.432912</td>\n",
              "      <td>5.6</td>\n",
              "    </tr>\n",
              "    <tr>\n",
              "      <th>2</th>\n",
              "      <td>5.899739</td>\n",
              "      <td>5.6</td>\n",
              "    </tr>\n",
              "    <tr>\n",
              "      <th>3</th>\n",
              "      <td>7.522680</td>\n",
              "      <td>5.6</td>\n",
              "    </tr>\n",
              "    <tr>\n",
              "      <th>4</th>\n",
              "      <td>6.565123</td>\n",
              "      <td>5.6</td>\n",
              "    </tr>\n",
              "    <tr>\n",
              "      <th>...</th>\n",
              "      <td>...</td>\n",
              "      <td>...</td>\n",
              "    </tr>\n",
              "    <tr>\n",
              "      <th>190</th>\n",
              "      <td>6.362340</td>\n",
              "      <td>23.0</td>\n",
              "    </tr>\n",
              "    <tr>\n",
              "      <th>191</th>\n",
              "      <td>6.017092</td>\n",
              "      <td>23.0</td>\n",
              "    </tr>\n",
              "    <tr>\n",
              "      <th>192</th>\n",
              "      <td>6.065775</td>\n",
              "      <td>23.0</td>\n",
              "    </tr>\n",
              "    <tr>\n",
              "      <th>193</th>\n",
              "      <td>6.490829</td>\n",
              "      <td>23.0</td>\n",
              "    </tr>\n",
              "    <tr>\n",
              "      <th>194</th>\n",
              "      <td>6.200782</td>\n",
              "      <td>23.0</td>\n",
              "    </tr>\n",
              "  </tbody>\n",
              "</table>\n",
              "<p>195 rows × 2 columns</p>\n",
              "</div>\n",
              "      <button class=\"colab-df-convert\" onclick=\"convertToInteractive('df-005751e4-f736-4473-9349-19a1e282b23a')\"\n",
              "              title=\"Convert this dataframe to an interactive table.\"\n",
              "              style=\"display:none;\">\n",
              "        \n",
              "  <svg xmlns=\"http://www.w3.org/2000/svg\" height=\"24px\"viewBox=\"0 0 24 24\"\n",
              "       width=\"24px\">\n",
              "    <path d=\"M0 0h24v24H0V0z\" fill=\"none\"/>\n",
              "    <path d=\"M18.56 5.44l.94 2.06.94-2.06 2.06-.94-2.06-.94-.94-2.06-.94 2.06-2.06.94zm-11 1L8.5 8.5l.94-2.06 2.06-.94-2.06-.94L8.5 2.5l-.94 2.06-2.06.94zm10 10l.94 2.06.94-2.06 2.06-.94-2.06-.94-.94-2.06-.94 2.06-2.06.94z\"/><path d=\"M17.41 7.96l-1.37-1.37c-.4-.4-.92-.59-1.43-.59-.52 0-1.04.2-1.43.59L10.3 9.45l-7.72 7.72c-.78.78-.78 2.05 0 2.83L4 21.41c.39.39.9.59 1.41.59.51 0 1.02-.2 1.41-.59l7.78-7.78 2.81-2.81c.8-.78.8-2.07 0-2.86zM5.41 20L4 18.59l7.72-7.72 1.47 1.35L5.41 20z\"/>\n",
              "  </svg>\n",
              "      </button>\n",
              "      \n",
              "  <style>\n",
              "    .colab-df-container {\n",
              "      display:flex;\n",
              "      flex-wrap:wrap;\n",
              "      gap: 12px;\n",
              "    }\n",
              "\n",
              "    .colab-df-convert {\n",
              "      background-color: #E8F0FE;\n",
              "      border: none;\n",
              "      border-radius: 50%;\n",
              "      cursor: pointer;\n",
              "      display: none;\n",
              "      fill: #1967D2;\n",
              "      height: 32px;\n",
              "      padding: 0 0 0 0;\n",
              "      width: 32px;\n",
              "    }\n",
              "\n",
              "    .colab-df-convert:hover {\n",
              "      background-color: #E2EBFA;\n",
              "      box-shadow: 0px 1px 2px rgba(60, 64, 67, 0.3), 0px 1px 3px 1px rgba(60, 64, 67, 0.15);\n",
              "      fill: #174EA6;\n",
              "    }\n",
              "\n",
              "    [theme=dark] .colab-df-convert {\n",
              "      background-color: #3B4455;\n",
              "      fill: #D2E3FC;\n",
              "    }\n",
              "\n",
              "    [theme=dark] .colab-df-convert:hover {\n",
              "      background-color: #434B5C;\n",
              "      box-shadow: 0px 1px 3px 1px rgba(0, 0, 0, 0.15);\n",
              "      filter: drop-shadow(0px 1px 2px rgba(0, 0, 0, 0.3));\n",
              "      fill: #FFFFFF;\n",
              "    }\n",
              "  </style>\n",
              "\n",
              "      <script>\n",
              "        const buttonEl =\n",
              "          document.querySelector('#df-005751e4-f736-4473-9349-19a1e282b23a button.colab-df-convert');\n",
              "        buttonEl.style.display =\n",
              "          google.colab.kernel.accessAllowed ? 'block' : 'none';\n",
              "\n",
              "        async function convertToInteractive(key) {\n",
              "          const element = document.querySelector('#df-005751e4-f736-4473-9349-19a1e282b23a');\n",
              "          const dataTable =\n",
              "            await google.colab.kernel.invokeFunction('convertToInteractive',\n",
              "                                                     [key], {});\n",
              "          if (!dataTable) return;\n",
              "\n",
              "          const docLinkHtml = 'Like what you see? Visit the ' +\n",
              "            '<a target=\"_blank\" href=https://colab.research.google.com/notebooks/data_table.ipynb>data table notebook</a>'\n",
              "            + ' to learn more about interactive tables.';\n",
              "          element.innerHTML = '';\n",
              "          dataTable['output_type'] = 'display_data';\n",
              "          await google.colab.output.renderOutput(dataTable, element);\n",
              "          const docLink = document.createElement('div');\n",
              "          docLink.innerHTML = docLinkHtml;\n",
              "          element.appendChild(docLink);\n",
              "        }\n",
              "      </script>\n",
              "    </div>\n",
              "  </div>\n",
              "  "
            ]
          },
          "metadata": {},
          "execution_count": 122
        }
      ]
    },
    {
      "cell_type": "code",
      "source": [
        "cluster_df.Clay_Percentage.value_counts()"
      ],
      "metadata": {
        "colab": {
          "base_uri": "https://localhost:8080/"
        },
        "id": "9KhgXMAsusDs",
        "outputId": "1cab70f6-d677-4e84-98ba-bbdedb994f5b"
      },
      "execution_count": null,
      "outputs": [
        {
          "output_type": "execute_result",
          "data": {
            "text/plain": [
              "5.600     138\n",
              "10.200     37\n",
              "21.428      5\n",
              "15.000      5\n",
              "55.000      5\n",
              "23.000      5\n",
              "Name: Clay_Percentage, dtype: int64"
            ]
          },
          "metadata": {},
          "execution_count": 125
        }
      ]
    },
    {
      "cell_type": "code",
      "source": [
        "# Label_encode = LabelEncoder()\n",
        "# labels = Label_encode.fit_transform(cluster_df.Clay_Percentage)\n",
        "# cluster_df['Clay_Percentage'] = labels\n",
        "\n",
        "\n",
        "#wenner_data_drop = wenner_data.drop(['Sample_Area'], axis=1)\n",
        "#wenner_data_drop.head()"
      ],
      "metadata": {
        "colab": {
          "base_uri": "https://localhost:8080/"
        },
        "id": "eq8wS9hKzKwu",
        "outputId": "8bfa47b7-e56b-486a-8cdb-9544c2d2b6b0"
      },
      "execution_count": null,
      "outputs": [
        {
          "output_type": "stream",
          "name": "stderr",
          "text": [
            "<ipython-input-17-7b3641b148e3>:3: SettingWithCopyWarning: \n",
            "A value is trying to be set on a copy of a slice from a DataFrame.\n",
            "Try using .loc[row_indexer,col_indexer] = value instead\n",
            "\n",
            "See the caveats in the documentation: https://pandas.pydata.org/pandas-docs/stable/user_guide/indexing.html#returning-a-view-versus-a-copy\n",
            "  cluster_df['Clay_Percentage'] = labels\n"
          ]
        }
      ]
    },
    {
      "cell_type": "code",
      "source": [
        "# cluster_df.Clay_Percentage.value_counts()"
      ],
      "metadata": {
        "colab": {
          "base_uri": "https://localhost:8080/"
        },
        "id": "6j4PwapvyJOT",
        "outputId": "fd359378-51a3-4bb5-e886-fb30977f6cab"
      },
      "execution_count": null,
      "outputs": [
        {
          "output_type": "execute_result",
          "data": {
            "text/plain": [
              "0    138\n",
              "1     37\n",
              "3      5\n",
              "2      5\n",
              "5      5\n",
              "4      5\n",
              "Name: Clay_Percentage, dtype: int64"
            ]
          },
          "metadata": {},
          "execution_count": 21
        }
      ]
    },
    {
      "cell_type": "code",
      "source": [
        "#Standardize data\n",
        "scaler = MinMaxScaler()\n",
        "#Clay_Percentage_normalized = cluster_df['Clay_Percentage'].reshape(-1, 1)\n",
        "scaler.fit(cluster_df[['Clay_Percentage']])\n",
        "cluster_df['Clay_Percentage']= scaler.transform(cluster_df[['Clay_Percentage']])\n"
      ],
      "metadata": {
        "colab": {
          "base_uri": "https://localhost:8080/"
        },
        "id": "R2OPx-hu0w9Q",
        "outputId": "3e0fc7f2-4295-462b-d3b4-b340089722f9"
      },
      "execution_count": null,
      "outputs": [
        {
          "output_type": "stream",
          "name": "stderr",
          "text": [
            "<ipython-input-126-0d6474e43b22>:5: SettingWithCopyWarning: \n",
            "A value is trying to be set on a copy of a slice from a DataFrame.\n",
            "Try using .loc[row_indexer,col_indexer] = value instead\n",
            "\n",
            "See the caveats in the documentation: https://pandas.pydata.org/pandas-docs/stable/user_guide/indexing.html#returning-a-view-versus-a-copy\n",
            "  cluster_df['Clay_Percentage']= scaler.transform(cluster_df[['Clay_Percentage']])\n"
          ]
        }
      ]
    },
    {
      "cell_type": "code",
      "source": [
        "#Standardize data\n",
        "scaler = MinMaxScaler()\n",
        "#Clay_Percentage_normalized = cluster_df['Clay_Percentage'].reshape(-1, 1)\n",
        "scaler.fit(cluster_df[['True_Wenner_ECa_reading']])\n",
        "cluster_df['True_Wenner_ECa_reading']= scaler.transform(cluster_df[['True_Wenner_ECa_reading']])\n"
      ],
      "metadata": {
        "colab": {
          "base_uri": "https://localhost:8080/"
        },
        "id": "_xNu13y8JShY",
        "outputId": "151dc07f-20f5-4822-9e65-d3a3c418ac4f"
      },
      "execution_count": null,
      "outputs": [
        {
          "output_type": "stream",
          "name": "stderr",
          "text": [
            "<ipython-input-128-d1c896b29505>:5: SettingWithCopyWarning: \n",
            "A value is trying to be set on a copy of a slice from a DataFrame.\n",
            "Try using .loc[row_indexer,col_indexer] = value instead\n",
            "\n",
            "See the caveats in the documentation: https://pandas.pydata.org/pandas-docs/stable/user_guide/indexing.html#returning-a-view-versus-a-copy\n",
            "  cluster_df['True_Wenner_ECa_reading']= scaler.transform(cluster_df[['True_Wenner_ECa_reading']])\n"
          ]
        }
      ]
    },
    {
      "cell_type": "code",
      "source": [
        "cluster_df"
      ],
      "metadata": {
        "colab": {
          "base_uri": "https://localhost:8080/",
          "height": 424
        },
        "id": "ScrBsWgx7Tz4",
        "outputId": "b16065d1-06b5-4b65-df10-be5bda2634c3"
      },
      "execution_count": null,
      "outputs": [
        {
          "output_type": "execute_result",
          "data": {
            "text/plain": [
              "     True_Wenner_ECa_reading  Clay_Percentage\n",
              "0                   1.000000         0.000000\n",
              "1                   0.452962         0.000000\n",
              "2                   0.307684         0.000000\n",
              "3                   0.749899         0.000000\n",
              "4                   0.488986         0.000000\n",
              "..                       ...              ...\n",
              "190                 0.433733         0.352227\n",
              "191                 0.339660         0.352227\n",
              "192                 0.352925         0.352227\n",
              "193                 0.468743         0.352227\n",
              "194                 0.389712         0.352227\n",
              "\n",
              "[195 rows x 2 columns]"
            ],
            "text/html": [
              "\n",
              "  <div id=\"df-a9d95eb4-b0cc-4fb8-8043-47cd7b799b82\">\n",
              "    <div class=\"colab-df-container\">\n",
              "      <div>\n",
              "<style scoped>\n",
              "    .dataframe tbody tr th:only-of-type {\n",
              "        vertical-align: middle;\n",
              "    }\n",
              "\n",
              "    .dataframe tbody tr th {\n",
              "        vertical-align: top;\n",
              "    }\n",
              "\n",
              "    .dataframe thead th {\n",
              "        text-align: right;\n",
              "    }\n",
              "</style>\n",
              "<table border=\"1\" class=\"dataframe\">\n",
              "  <thead>\n",
              "    <tr style=\"text-align: right;\">\n",
              "      <th></th>\n",
              "      <th>True_Wenner_ECa_reading</th>\n",
              "      <th>Clay_Percentage</th>\n",
              "    </tr>\n",
              "  </thead>\n",
              "  <tbody>\n",
              "    <tr>\n",
              "      <th>0</th>\n",
              "      <td>1.000000</td>\n",
              "      <td>0.000000</td>\n",
              "    </tr>\n",
              "    <tr>\n",
              "      <th>1</th>\n",
              "      <td>0.452962</td>\n",
              "      <td>0.000000</td>\n",
              "    </tr>\n",
              "    <tr>\n",
              "      <th>2</th>\n",
              "      <td>0.307684</td>\n",
              "      <td>0.000000</td>\n",
              "    </tr>\n",
              "    <tr>\n",
              "      <th>3</th>\n",
              "      <td>0.749899</td>\n",
              "      <td>0.000000</td>\n",
              "    </tr>\n",
              "    <tr>\n",
              "      <th>4</th>\n",
              "      <td>0.488986</td>\n",
              "      <td>0.000000</td>\n",
              "    </tr>\n",
              "    <tr>\n",
              "      <th>...</th>\n",
              "      <td>...</td>\n",
              "      <td>...</td>\n",
              "    </tr>\n",
              "    <tr>\n",
              "      <th>190</th>\n",
              "      <td>0.433733</td>\n",
              "      <td>0.352227</td>\n",
              "    </tr>\n",
              "    <tr>\n",
              "      <th>191</th>\n",
              "      <td>0.339660</td>\n",
              "      <td>0.352227</td>\n",
              "    </tr>\n",
              "    <tr>\n",
              "      <th>192</th>\n",
              "      <td>0.352925</td>\n",
              "      <td>0.352227</td>\n",
              "    </tr>\n",
              "    <tr>\n",
              "      <th>193</th>\n",
              "      <td>0.468743</td>\n",
              "      <td>0.352227</td>\n",
              "    </tr>\n",
              "    <tr>\n",
              "      <th>194</th>\n",
              "      <td>0.389712</td>\n",
              "      <td>0.352227</td>\n",
              "    </tr>\n",
              "  </tbody>\n",
              "</table>\n",
              "<p>195 rows × 2 columns</p>\n",
              "</div>\n",
              "      <button class=\"colab-df-convert\" onclick=\"convertToInteractive('df-a9d95eb4-b0cc-4fb8-8043-47cd7b799b82')\"\n",
              "              title=\"Convert this dataframe to an interactive table.\"\n",
              "              style=\"display:none;\">\n",
              "        \n",
              "  <svg xmlns=\"http://www.w3.org/2000/svg\" height=\"24px\"viewBox=\"0 0 24 24\"\n",
              "       width=\"24px\">\n",
              "    <path d=\"M0 0h24v24H0V0z\" fill=\"none\"/>\n",
              "    <path d=\"M18.56 5.44l.94 2.06.94-2.06 2.06-.94-2.06-.94-.94-2.06-.94 2.06-2.06.94zm-11 1L8.5 8.5l.94-2.06 2.06-.94-2.06-.94L8.5 2.5l-.94 2.06-2.06.94zm10 10l.94 2.06.94-2.06 2.06-.94-2.06-.94-.94-2.06-.94 2.06-2.06.94z\"/><path d=\"M17.41 7.96l-1.37-1.37c-.4-.4-.92-.59-1.43-.59-.52 0-1.04.2-1.43.59L10.3 9.45l-7.72 7.72c-.78.78-.78 2.05 0 2.83L4 21.41c.39.39.9.59 1.41.59.51 0 1.02-.2 1.41-.59l7.78-7.78 2.81-2.81c.8-.78.8-2.07 0-2.86zM5.41 20L4 18.59l7.72-7.72 1.47 1.35L5.41 20z\"/>\n",
              "  </svg>\n",
              "      </button>\n",
              "      \n",
              "  <style>\n",
              "    .colab-df-container {\n",
              "      display:flex;\n",
              "      flex-wrap:wrap;\n",
              "      gap: 12px;\n",
              "    }\n",
              "\n",
              "    .colab-df-convert {\n",
              "      background-color: #E8F0FE;\n",
              "      border: none;\n",
              "      border-radius: 50%;\n",
              "      cursor: pointer;\n",
              "      display: none;\n",
              "      fill: #1967D2;\n",
              "      height: 32px;\n",
              "      padding: 0 0 0 0;\n",
              "      width: 32px;\n",
              "    }\n",
              "\n",
              "    .colab-df-convert:hover {\n",
              "      background-color: #E2EBFA;\n",
              "      box-shadow: 0px 1px 2px rgba(60, 64, 67, 0.3), 0px 1px 3px 1px rgba(60, 64, 67, 0.15);\n",
              "      fill: #174EA6;\n",
              "    }\n",
              "\n",
              "    [theme=dark] .colab-df-convert {\n",
              "      background-color: #3B4455;\n",
              "      fill: #D2E3FC;\n",
              "    }\n",
              "\n",
              "    [theme=dark] .colab-df-convert:hover {\n",
              "      background-color: #434B5C;\n",
              "      box-shadow: 0px 1px 3px 1px rgba(0, 0, 0, 0.15);\n",
              "      filter: drop-shadow(0px 1px 2px rgba(0, 0, 0, 0.3));\n",
              "      fill: #FFFFFF;\n",
              "    }\n",
              "  </style>\n",
              "\n",
              "      <script>\n",
              "        const buttonEl =\n",
              "          document.querySelector('#df-a9d95eb4-b0cc-4fb8-8043-47cd7b799b82 button.colab-df-convert');\n",
              "        buttonEl.style.display =\n",
              "          google.colab.kernel.accessAllowed ? 'block' : 'none';\n",
              "\n",
              "        async function convertToInteractive(key) {\n",
              "          const element = document.querySelector('#df-a9d95eb4-b0cc-4fb8-8043-47cd7b799b82');\n",
              "          const dataTable =\n",
              "            await google.colab.kernel.invokeFunction('convertToInteractive',\n",
              "                                                     [key], {});\n",
              "          if (!dataTable) return;\n",
              "\n",
              "          const docLinkHtml = 'Like what you see? Visit the ' +\n",
              "            '<a target=\"_blank\" href=https://colab.research.google.com/notebooks/data_table.ipynb>data table notebook</a>'\n",
              "            + ' to learn more about interactive tables.';\n",
              "          element.innerHTML = '';\n",
              "          dataTable['output_type'] = 'display_data';\n",
              "          await google.colab.output.renderOutput(dataTable, element);\n",
              "          const docLink = document.createElement('div');\n",
              "          docLink.innerHTML = docLinkHtml;\n",
              "          element.appendChild(docLink);\n",
              "        }\n",
              "      </script>\n",
              "    </div>\n",
              "  </div>\n",
              "  "
            ]
          },
          "metadata": {},
          "execution_count": 129
        }
      ]
    },
    {
      "cell_type": "code",
      "source": [
        "\n",
        "#wenner_data_drop = wenner_data.drop(['Sample_Area'], axis=1)\n",
        "#wenner_data_drop.head()"
      ],
      "metadata": {
        "id": "oS_k1E6bysM6"
      },
      "execution_count": null,
      "outputs": []
    },
    {
      "cell_type": "code",
      "source": [
        "# X = wenner_data_drop.iloc[:,[4,1]].values\n",
        "# print(X)"
      ],
      "metadata": {
        "id": "XIFv-UuZPtCX"
      },
      "execution_count": null,
      "outputs": []
    },
    {
      "cell_type": "code",
      "source": [
        "# #Standardize data\n",
        "# scaler = MinMaxScaler()\n",
        "# scaler.fit(X)\n",
        "\n",
        "# X_standardized = scaler.transform(X)\n",
        "\n",
        "# print(X_standardized)"
      ],
      "metadata": {
        "id": "0ZOUzWyg9pr0"
      },
      "execution_count": null,
      "outputs": []
    },
    {
      "cell_type": "code",
      "source": [
        "wcss = []\n",
        "\n",
        "for i in range(1,11):\n",
        "  kmeans = KMeans(n_clusters=i, init = 'k-means++', random_state= 42)\n",
        "  kmeans.fit(cluster_df)\n",
        "\n",
        "  wcss.append(kmeans.inertia_)"
      ],
      "metadata": {
        "id": "X8wH9pnqQFeW",
        "colab": {
          "base_uri": "https://localhost:8080/"
        },
        "outputId": "939935dc-da14-4660-a629-66d2587ea129"
      },
      "execution_count": null,
      "outputs": [
        {
          "output_type": "stream",
          "name": "stderr",
          "text": [
            "/usr/local/lib/python3.9/dist-packages/sklearn/cluster/_kmeans.py:870: FutureWarning: The default value of `n_init` will change from 10 to 'auto' in 1.4. Set the value of `n_init` explicitly to suppress the warning\n",
            "  warnings.warn(\n",
            "/usr/local/lib/python3.9/dist-packages/sklearn/cluster/_kmeans.py:870: FutureWarning: The default value of `n_init` will change from 10 to 'auto' in 1.4. Set the value of `n_init` explicitly to suppress the warning\n",
            "  warnings.warn(\n",
            "/usr/local/lib/python3.9/dist-packages/sklearn/cluster/_kmeans.py:870: FutureWarning: The default value of `n_init` will change from 10 to 'auto' in 1.4. Set the value of `n_init` explicitly to suppress the warning\n",
            "  warnings.warn(\n",
            "/usr/local/lib/python3.9/dist-packages/sklearn/cluster/_kmeans.py:870: FutureWarning: The default value of `n_init` will change from 10 to 'auto' in 1.4. Set the value of `n_init` explicitly to suppress the warning\n",
            "  warnings.warn(\n",
            "/usr/local/lib/python3.9/dist-packages/sklearn/cluster/_kmeans.py:870: FutureWarning: The default value of `n_init` will change from 10 to 'auto' in 1.4. Set the value of `n_init` explicitly to suppress the warning\n",
            "  warnings.warn(\n",
            "/usr/local/lib/python3.9/dist-packages/sklearn/cluster/_kmeans.py:870: FutureWarning: The default value of `n_init` will change from 10 to 'auto' in 1.4. Set the value of `n_init` explicitly to suppress the warning\n",
            "  warnings.warn(\n",
            "/usr/local/lib/python3.9/dist-packages/sklearn/cluster/_kmeans.py:870: FutureWarning: The default value of `n_init` will change from 10 to 'auto' in 1.4. Set the value of `n_init` explicitly to suppress the warning\n",
            "  warnings.warn(\n",
            "/usr/local/lib/python3.9/dist-packages/sklearn/cluster/_kmeans.py:870: FutureWarning: The default value of `n_init` will change from 10 to 'auto' in 1.4. Set the value of `n_init` explicitly to suppress the warning\n",
            "  warnings.warn(\n",
            "/usr/local/lib/python3.9/dist-packages/sklearn/cluster/_kmeans.py:870: FutureWarning: The default value of `n_init` will change from 10 to 'auto' in 1.4. Set the value of `n_init` explicitly to suppress the warning\n",
            "  warnings.warn(\n",
            "/usr/local/lib/python3.9/dist-packages/sklearn/cluster/_kmeans.py:870: FutureWarning: The default value of `n_init` will change from 10 to 'auto' in 1.4. Set the value of `n_init` explicitly to suppress the warning\n",
            "  warnings.warn(\n"
          ]
        }
      ]
    },
    {
      "cell_type": "code",
      "source": [
        "#plot an elbow graph\n",
        "\n",
        "plt.figure(figsize=(5,5))\n",
        "sns.set()\n",
        "plt.plot(range(1,11), wcss)\n",
        "plt.title('The Elbow Point Graph')\n",
        "plt.xlabel('Number of clusters')\n",
        "plt.ylabel('Within-Cluster Sum of Square (WCSS)')\n",
        "plt.show"
      ],
      "metadata": {
        "colab": {
          "base_uri": "https://localhost:8080/",
          "height": 513
        },
        "id": "fTNLkzydQbBV",
        "outputId": "d2c9beea-f737-438d-9359-a8de4c1b5722"
      },
      "execution_count": null,
      "outputs": [
        {
          "output_type": "execute_result",
          "data": {
            "text/plain": [
              "<function matplotlib.pyplot.show(close=None, block=None)>"
            ]
          },
          "metadata": {},
          "execution_count": 131
        },
        {
          "output_type": "display_data",
          "data": {
            "text/plain": [
              "<Figure size 500x500 with 1 Axes>"
            ],
            "image/png": "[encoded data removed]"
          },
          "metadata": {}
        }
      ]
    },
    {
      "cell_type": "markdown",
      "source": [
        "Lets consider optimum number of classes as 4"
      ],
      "metadata": {
        "id": "q0i3zapOQiYF"
      }
    },
    {
      "cell_type": "code",
      "source": [
        "kmeans_with_3_clusters = KMeans(n_clusters = 3, init = 'k-means++', random_state= 0)\n",
        "\n",
        "Y_predicted_with_3 = kmeans_with_3_clusters.fit_predict(cluster_df)\n",
        "print(Y_predicted_with_3)"
      ],
      "metadata": {
        "colab": {
          "base_uri": "https://localhost:8080/"
        },
        "id": "1ASsFncpSmx9",
        "outputId": "ca4019c2-331b-43ad-f067-ea643c571c9e"
      },
      "execution_count": null,
      "outputs": [
        {
          "output_type": "stream",
          "name": "stdout",
          "text": [
            "[2 2 0 2 2 2 2 2 2 2 0 2 0 2 2 0 2 2 2 0 0 2 0 0 2 2 0 0 2 0 2 0 2 2 2 0 0\n",
            " 0 2 0 2 2 0 0 0 0 0 2 2 0 0 2 0 0 2 0 2 0 2 2 0 2 0 0 0 0 0 2 0 0 0 0 2 0\n",
            " 0 0 2 2 0 0 2 0 0 0 0 0 2 0 2 2 0 0 2 2 2 2 0 0 2 2 0 0 2 0 0 2 0 0 0 0 2\n",
            " 2 0 0 2 0 0 0 2 0 0 0 0 0 0 0 0 0 0 0 2 0 2 0 0 2 0 0 0 0 0 0 2 0 0 2 2 0\n",
            " 2 0 2 0 0 0 0 0 2 0 0 2 2 2 2 0 2 2 0 2 2 0 0 2 0 0 2 2 0 2 2 2 0 2 0 0 0\n",
            " 1 1 1 1 1 2 0 0 2 0]\n"
          ]
        },
        {
          "output_type": "stream",
          "name": "stderr",
          "text": [
            "/usr/local/lib/python3.9/dist-packages/sklearn/cluster/_kmeans.py:870: FutureWarning: The default value of `n_init` will change from 10 to 'auto' in 1.4. Set the value of `n_init` explicitly to suppress the warning\n",
            "  warnings.warn(\n"
          ]
        }
      ]
    },
    {
      "cell_type": "code",
      "source": [
        "kmeans_with_4_clusters = KMeans(n_clusters = 4, init = 'k-means++', random_state= 0)\n",
        "\n",
        "Y_predicted_with_4 = kmeans_with_4_clusters.fit_predict(cluster_df)\n",
        "print(Y_predicted_with_4)"
      ],
      "metadata": {
        "colab": {
          "base_uri": "https://localhost:8080/"
        },
        "id": "WeSFU7ldJosP",
        "outputId": "e41d3e56-19e7-4d3a-b330-e046d5ef1cd9"
      },
      "execution_count": null,
      "outputs": [
        {
          "output_type": "stream",
          "name": "stdout",
          "text": [
            "[2 0 0 2 0 2 2 0 2 0 0 2 3 2 2 0 2 0 2 3 0 2 3 3 0 0 3 3 2 0 2 0 0 2 0 0 3\n",
            " 3 2 3 0 2 3 3 0 3 0 2 2 3 0 2 3 0 2 0 2 0 2 2 3 2 3 0 0 3 3 2 0 0 3 0 2 0\n",
            " 0 0 0 2 3 3 2 0 3 3 0 3 2 0 0 0 3 3 0 2 0 2 0 0 2 2 0 0 2 0 0 2 0 0 0 3 2\n",
            " 0 3 0 2 0 0 0 0 0 3 0 0 0 0 0 0 3 0 0 0 0 0 0 0 2 0 0 3 0 0 0 2 0 0 2 2 3\n",
            " 0 0 2 3 3 0 3 0 0 3 0 2 0 2 0 3 0 2 0 2 0 0 3 2 0 3 0 0 0 0 0 2 0 0 0 0 3\n",
            " 1 1 1 1 1 0 0 0 0 0]\n"
          ]
        },
        {
          "output_type": "stream",
          "name": "stderr",
          "text": [
            "/usr/local/lib/python3.9/dist-packages/sklearn/cluster/_kmeans.py:870: FutureWarning: The default value of `n_init` will change from 10 to 'auto' in 1.4. Set the value of `n_init` explicitly to suppress the warning\n",
            "  warnings.warn(\n"
          ]
        }
      ]
    },
    {
      "cell_type": "code",
      "source": [
        "kmeans_with_5_clusters = KMeans(n_clusters = 5, init = 'k-means++', random_state= 0)\n",
        "\n",
        "Y_predicted_with_5 = kmeans_with_5_clusters.fit_predict(cluster_df)\n",
        "print(Y_predicted_with_5)"
      ],
      "metadata": {
        "colab": {
          "base_uri": "https://localhost:8080/"
        },
        "id": "AMyfRjloDHNS",
        "outputId": "049f0c03-4013-47d8-a3d5-2a78f4f52669"
      },
      "execution_count": null,
      "outputs": [
        {
          "output_type": "stream",
          "name": "stdout",
          "text": [
            "[2 0 0 2 0 2 2 0 2 0 0 2 3 2 2 0 0 0 2 3 0 2 3 3 0 0 3 3 2 0 2 0 0 2 0 0 3\n",
            " 3 0 3 0 2 3 3 0 3 0 2 2 3 0 2 3 0 2 0 2 0 2 2 3 2 3 0 0 3 3 2 0 0 3 0 2 0\n",
            " 0 0 0 2 3 3 2 0 3 3 0 3 2 0 0 0 0 3 0 2 0 2 0 0 2 2 0 0 2 0 0 2 0 0 0 3 2\n",
            " 0 3 0 0 0 0 0 0 0 3 0 0 0 3 0 0 3 0 3 0 0 0 0 0 2 0 0 3 0 0 0 2 0 0 0 2 3\n",
            " 0 0 2 3 3 0 3 0 0 3 0 0 0 2 0 3 0 2 0 2 0 0 3 2 0 3 0 4 4 4 4 4 4 4 4 4 3\n",
            " 1 1 1 1 1 4 4 4 4 4]\n"
          ]
        },
        {
          "output_type": "stream",
          "name": "stderr",
          "text": [
            "/usr/local/lib/python3.9/dist-packages/sklearn/cluster/_kmeans.py:870: FutureWarning: The default value of `n_init` will change from 10 to 'auto' in 1.4. Set the value of `n_init` explicitly to suppress the warning\n",
            "  warnings.warn(\n"
          ]
        }
      ]
    },
    {
      "cell_type": "code",
      "source": [
        "cluster_df['cluster_with_3'] = Y_predicted_with_3\n",
        "cluster_df['cluster_with_4'] = Y_predicted_with_4\n",
        "cluster_df['cluster_with_5'] = Y_predicted_with_5"
      ],
      "metadata": {
        "colab": {
          "base_uri": "https://localhost:8080/"
        },
        "id": "hmuSk5g2_AHr",
        "outputId": "74daed8c-d99e-4eb0-c467-acae2206192e"
      },
      "execution_count": null,
      "outputs": [
        {
          "output_type": "stream",
          "name": "stderr",
          "text": [
            "<ipython-input-135-7bc028083d2e>:1: SettingWithCopyWarning: \n",
            "A value is trying to be set on a copy of a slice from a DataFrame.\n",
            "Try using .loc[row_indexer,col_indexer] = value instead\n",
            "\n",
            "See the caveats in the documentation: https://pandas.pydata.org/pandas-docs/stable/user_guide/indexing.html#returning-a-view-versus-a-copy\n",
            "  cluster_df['cluster_with_3'] = Y_predicted_with_3\n",
            "<ipython-input-135-7bc028083d2e>:2: SettingWithCopyWarning: \n",
            "A value is trying to be set on a copy of a slice from a DataFrame.\n",
            "Try using .loc[row_indexer,col_indexer] = value instead\n",
            "\n",
            "See the caveats in the documentation: https://pandas.pydata.org/pandas-docs/stable/user_guide/indexing.html#returning-a-view-versus-a-copy\n",
            "  cluster_df['cluster_with_4'] = Y_predicted_with_4\n",
            "<ipython-input-135-7bc028083d2e>:3: SettingWithCopyWarning: \n",
            "A value is trying to be set on a copy of a slice from a DataFrame.\n",
            "Try using .loc[row_indexer,col_indexer] = value instead\n",
            "\n",
            "See the caveats in the documentation: https://pandas.pydata.org/pandas-docs/stable/user_guide/indexing.html#returning-a-view-versus-a-copy\n",
            "  cluster_df['cluster_with_5'] = Y_predicted_with_5\n"
          ]
        }
      ]
    },
    {
      "cell_type": "code",
      "source": [
        "cluster_df.cluster_with_3.value_counts()\n"
      ],
      "metadata": {
        "colab": {
          "base_uri": "https://localhost:8080/"
        },
        "id": "Z3q4F5CX_a5N",
        "outputId": "ca88b2cb-ce51-4811-9ae0-67983ff2517f"
      },
      "execution_count": null,
      "outputs": [
        {
          "output_type": "execute_result",
          "data": {
            "text/plain": [
              "0    110\n",
              "2     80\n",
              "1      5\n",
              "Name: cluster_with_3, dtype: int64"
            ]
          },
          "metadata": {},
          "execution_count": 136
        }
      ]
    },
    {
      "cell_type": "code",
      "source": [
        "cluster_df.cluster_with_4.value_counts()\n"
      ],
      "metadata": {
        "colab": {
          "base_uri": "https://localhost:8080/"
        },
        "id": "h5HPm9Y4J8F-",
        "outputId": "d246e619-f607-4cea-8773-99aea57e595a"
      },
      "execution_count": null,
      "outputs": [
        {
          "output_type": "execute_result",
          "data": {
            "text/plain": [
              "0    102\n",
              "2     48\n",
              "3     40\n",
              "1      5\n",
              "Name: cluster_with_4, dtype: int64"
            ]
          },
          "metadata": {},
          "execution_count": 137
        }
      ]
    },
    {
      "cell_type": "code",
      "source": [
        "cluster_df.cluster_with_5.value_counts()"
      ],
      "metadata": {
        "colab": {
          "base_uri": "https://localhost:8080/"
        },
        "id": "QSXCetTjDmG6",
        "outputId": "6c0e8992-e01d-4841-80cd-be617bfed401"
      },
      "execution_count": null,
      "outputs": [
        {
          "output_type": "execute_result",
          "data": {
            "text/plain": [
              "0    70\n",
              "2    58\n",
              "3    36\n",
              "1    22\n",
              "4     9\n",
              "Name: cluster_with_5, dtype: int64"
            ]
          },
          "metadata": {},
          "execution_count": 109
        }
      ]
    },
    {
      "cell_type": "code",
      "source": [
        "# 3 cluster plot\n",
        "\n",
        "plt.figure(figsize=(5,5))\n",
        "\n",
        "cluster_1 = cluster_df[cluster_df.cluster_with_3 == 0]\n",
        "cluster_2 = cluster_df[cluster_df.cluster_with_3 == 1]\n",
        "cluster_3 = cluster_df[cluster_df.cluster_with_3 == 2]\n",
        "\n",
        "\n",
        "plt.scatter(cluster_1.Clay_Percentage,cluster_1['True_Wenner_ECa_reading'],color = 'green')\n",
        "plt.scatter(cluster_2.Clay_Percentage,cluster_2['True_Wenner_ECa_reading'],color = 'red')\n",
        "plt.scatter(cluster_3.Clay_Percentage,cluster_3['True_Wenner_ECa_reading'],color = 'black')\n",
        "\n",
        "\n",
        "plt.title('Identified Salinity Clusters')\n",
        "plt.xlabel('Clay Percentage')\n",
        "plt.ylabel('Wenner_sensor_related_ECa_calculated')\n",
        "\n",
        "# plt.legend((cluster_1 , cluster_2 , cluster_3 , cluster_4, Centroids),\n",
        "#            ('Cluster_1','Cluster_2', 'Cluster_3', 'Cluster_4', 'Centroids'),\n",
        "#            scatterpoints=1,\n",
        "#            loc='upper right',\n",
        "#            ncol=3,\n",
        "#            fontsize=12)\n"
      ],
      "metadata": {
        "colab": {
          "base_uri": "https://localhost:8080/",
          "height": 513
        },
        "id": "C6fgtTzbAhWo",
        "outputId": "223cbbf6-dffe-487b-888a-3e00665bcc4e"
      },
      "execution_count": null,
      "outputs": [
        {
          "output_type": "execute_result",
          "data": {
            "text/plain": [
              "Text(0, 0.5, 'Wenner_sensor_related_ECa_calculated')"
            ]
          },
          "metadata": {},
          "execution_count": 138
        },
        {
          "output_type": "display_data",
          "data": {
            "text/plain": [
              "<Figure size 500x500 with 1 Axes>"
            ],
            "image/png": "[encoded data removed]"
          },
          "metadata": {}
        }
      ]
    },
    {
      "cell_type": "code",
      "source": [
        "# 4 cluster plot\n",
        "\n",
        "plt.figure(figsize=(5,5))\n",
        "\n",
        "cluster_1 = cluster_df[cluster_df.cluster_with_4 == 0]\n",
        "cluster_2 = cluster_df[cluster_df.cluster_with_4 == 1]\n",
        "cluster_3 = cluster_df[cluster_df.cluster_with_4 == 2]\n",
        "cluster_4 = cluster_df[cluster_df.cluster_with_4 == 3]\n",
        "\n",
        "plt.scatter(cluster_1.Clay_Percentage,cluster_1['True_Wenner_ECa_reading'],color = 'green')\n",
        "plt.scatter(cluster_2.Clay_Percentage,cluster_2['True_Wenner_ECa_reading'],color = 'red')\n",
        "plt.scatter(cluster_3.Clay_Percentage,cluster_3['True_Wenner_ECa_reading'],color = 'black')\n",
        "plt.scatter(cluster_4.Clay_Percentage,cluster_4['True_Wenner_ECa_reading'],color = 'yellow')\n",
        "\n",
        "plt.title('Identified Salinity Clusters')\n",
        "plt.xlabel('Clay Percentage')\n",
        "plt.ylabel('Wenner_sensor_related_ECa_calculated')"
      ],
      "metadata": {
        "colab": {
          "base_uri": "https://localhost:8080/",
          "height": 513
        },
        "id": "t27HUNu0KvA_",
        "outputId": "51a78039-e568-4527-fef1-e819300894dd"
      },
      "execution_count": null,
      "outputs": [
        {
          "output_type": "execute_result",
          "data": {
            "text/plain": [
              "Text(0, 0.5, 'Wenner_sensor_related_ECa_calculated')"
            ]
          },
          "metadata": {},
          "execution_count": 139
        },
        {
          "output_type": "display_data",
          "data": {
            "text/plain": [
              "<Figure size 500x500 with 1 Axes>"
            ],
            "image/png": "[encoded data removed]"
          },
          "metadata": {}
        }
      ]
    },
    {
      "cell_type": "code",
      "source": [
        "#5 cluster plots\n",
        "plt.figure(figsize=(5,5))\n",
        "\n",
        "cluster_1 = cluster_df[cluster_df.cluster_with_5 == 0]\n",
        "cluster_2 = cluster_df[cluster_df.cluster_with_5 == 1]\n",
        "cluster_3 = cluster_df[cluster_df.cluster_with_5 == 2]\n",
        "cluster_4 = cluster_df[cluster_df.cluster_with_5 == 3]\n",
        "cluster_5 = cluster_df[cluster_df.cluster_with_5 == 4]\n",
        "\n",
        "\n",
        "plt.scatter(cluster_1.Clay_Percentage,cluster_1['True_Wenner_ECa_reading'],color = 'green')\n",
        "plt.scatter(cluster_2.Clay_Percentage,cluster_2['True_Wenner_ECa_reading'],color = 'red')\n",
        "plt.scatter(cluster_3.Clay_Percentage,cluster_3['True_Wenner_ECa_reading'],color = 'black')\n",
        "plt.scatter(cluster_4.Clay_Percentage,cluster_4['True_Wenner_ECa_reading'],color = 'yellow')\n",
        "plt.scatter(cluster_5.Clay_Percentage,cluster_5['True_Wenner_ECa_reading'],color = 'blue')\n",
        "\n",
        "plt.title('Identified Salinity Clusters')\n",
        "plt.xlabel('Clay Percentage')\n",
        "plt.ylabel('Wenner_sensor_related_ECa_calculated')\n",
        "\n",
        "# plt.legend((cluster_1 , cluster_2 , cluster_3 , cluster_4, Centroids),\n",
        "#            ('Cluster_1','Cluster_2', 'Cluster_3', 'Cluster_4', 'Centroids'),\n",
        "#            scatterpoints=1,\n",
        "#            loc='upper right',\n",
        "#            ncol=3,\n",
        "#            fontsize=12"
      ],
      "metadata": {
        "colab": {
          "base_uri": "https://localhost:8080/",
          "height": 513
        },
        "id": "4zswojIjG49c",
        "outputId": "5d08768e-0922-48eb-b349-2c74f28ceeca"
      },
      "execution_count": null,
      "outputs": [
        {
          "output_type": "execute_result",
          "data": {
            "text/plain": [
              "Text(0, 0.5, 'Wenner_sensor_related_ECa_calculated')"
            ]
          },
          "metadata": {},
          "execution_count": 141
        },
        {
          "output_type": "display_data",
          "data": {
            "text/plain": [
              "<Figure size 500x500 with 1 Axes>"
            ],
            "image/png": "[encoded data removed]"
          },
          "metadata": {}
        }
      ]
    },
    {
      "cell_type": "code",
      "source": [
        "plt.figure(figsize=(15,15))\n",
        "\n",
        "Cluster_1 = plt.scatter(normalized_Wenner_sensor_ECa_calculated[Y==0,0], normalized_Wenner_sensor_ECa_calculated[Y==0,1], s=50, c='green', label = 'Cluster 1')\n",
        "Cluster_2 = plt.scatter(normalized_Wenner_sensor_ECa_calculated[Y==1,0], normalized_Wenner_sensor_ECa_calculated[Y==1,1], s=50, c='red', label = 'Cluster 2')\n",
        "Cluster_3 = plt.scatter(normalized_Wenner_sensor_ECa_calculated[Y==2,0], normalized_Wenner_sensor_ECa_calculated[Y==2,1], s=50, c='yellow', label = 'Cluster 3')\n",
        "Cluster_4 = plt.scatter(normalized_Wenner_sensor_ECa_calculated[Y==3,0], normalized_Wenner_sensor_ECa_calculated[Y==3,1], s=50, c='violet', label = 'Cluster 4')\n",
        "\n",
        "\n",
        "#plot the centroids\n",
        "\n",
        "Centroids = plt.scatter (kmeans.cluster_centers_[:, 0], kmeans.cluster_centers_[:,1], s=100, c='black', label= 'Centroids', marker = '*')\n",
        "\n",
        "plt.title('Identified Salinity Clusters')\n",
        "plt.xlabel('Clay Percentage')\n",
        "plt.ylabel('Wenner_sensor_related_ECa_calculated')\n",
        "\n",
        "plt.legend((Cluster_1 , Cluster_2 , Cluster_3 , Cluster_4, Centroids),\n",
        "           ('Cluster_1','Cluster_2', 'Cluster_3', 'Cluster_4', 'Centroids'),\n",
        "           scatterpoints=1,\n",
        "           loc='upper right',\n",
        "           ncol=3,\n",
        "           fontsize=12)\n",
        "\n",
        "plt.show()\n"
      ],
      "metadata": {
        "colab": {
          "base_uri": "https://localhost:8080/",
          "height": 304
        },
        "id": "5CzydvHvS0wm",
        "outputId": "0baa77da-12ac-44f5-d41a-b8cbd1285c41"
      },
      "execution_count": null,
      "outputs": [
        {
          "output_type": "error",
          "ename": "IndexError",
          "evalue": "ignored",
          "traceback": [
            "\u001b[0;31m---------------------------------------------------------------------------\u001b[0m",
            "\u001b[0;31mIndexError\u001b[0m                                Traceback (most recent call last)",
            "\u001b[0;32m<ipython-input-44-41d6b342e543>\u001b[0m in \u001b[0;36m<cell line: 3>\u001b[0;34m()\u001b[0m\n\u001b[1;32m      1\u001b[0m \u001b[0mplt\u001b[0m\u001b[0;34m.\u001b[0m\u001b[0mfigure\u001b[0m\u001b[0;34m(\u001b[0m\u001b[0mfigsize\u001b[0m\u001b[0;34m=\u001b[0m\u001b[0;34m(\u001b[0m\u001b[0;36m15\u001b[0m\u001b[0;34m,\u001b[0m\u001b[0;36m15\u001b[0m\u001b[0;34m)\u001b[0m\u001b[0;34m)\u001b[0m\u001b[0;34m\u001b[0m\u001b[0;34m\u001b[0m\u001b[0m\n\u001b[1;32m      2\u001b[0m \u001b[0;34m\u001b[0m\u001b[0m\n\u001b[0;32m----> 3\u001b[0;31m \u001b[0mCluster_1\u001b[0m \u001b[0;34m=\u001b[0m \u001b[0mplt\u001b[0m\u001b[0;34m.\u001b[0m\u001b[0mscatter\u001b[0m\u001b[0;34m(\u001b[0m\u001b[0mnormalized_Wenner_sensor_ECa_calculated\u001b[0m\u001b[0;34m[\u001b[0m\u001b[0mY\u001b[0m\u001b[0;34m==\u001b[0m\u001b[0;36m0\u001b[0m\u001b[0;34m,\u001b[0m\u001b[0;36m0\u001b[0m\u001b[0;34m]\u001b[0m\u001b[0;34m,\u001b[0m \u001b[0mnormalized_Wenner_sensor_ECa_calculated\u001b[0m\u001b[0;34m[\u001b[0m\u001b[0mY\u001b[0m\u001b[0;34m==\u001b[0m\u001b[0;36m0\u001b[0m\u001b[0;34m,\u001b[0m\u001b[0;36m1\u001b[0m\u001b[0;34m]\u001b[0m\u001b[0;34m,\u001b[0m \u001b[0ms\u001b[0m\u001b[0;34m=\u001b[0m\u001b[0;36m50\u001b[0m\u001b[0;34m,\u001b[0m \u001b[0mc\u001b[0m\u001b[0;34m=\u001b[0m\u001b[0;34m'green'\u001b[0m\u001b[0;34m,\u001b[0m \u001b[0mlabel\u001b[0m \u001b[0;34m=\u001b[0m \u001b[0;34m'Cluster 1'\u001b[0m\u001b[0;34m)\u001b[0m\u001b[0;34m\u001b[0m\u001b[0;34m\u001b[0m\u001b[0m\n\u001b[0m\u001b[1;32m      4\u001b[0m \u001b[0mCluster_2\u001b[0m \u001b[0;34m=\u001b[0m \u001b[0mplt\u001b[0m\u001b[0;34m.\u001b[0m\u001b[0mscatter\u001b[0m\u001b[0;34m(\u001b[0m\u001b[0mnormalized_Wenner_sensor_ECa_calculated\u001b[0m\u001b[0;34m[\u001b[0m\u001b[0mY\u001b[0m\u001b[0;34m==\u001b[0m\u001b[0;36m1\u001b[0m\u001b[0;34m,\u001b[0m\u001b[0;36m0\u001b[0m\u001b[0;34m]\u001b[0m\u001b[0;34m,\u001b[0m \u001b[0mnormalized_Wenner_sensor_ECa_calculated\u001b[0m\u001b[0;34m[\u001b[0m\u001b[0mY\u001b[0m\u001b[0;34m==\u001b[0m\u001b[0;36m1\u001b[0m\u001b[0;34m,\u001b[0m\u001b[0;36m1\u001b[0m\u001b[0;34m]\u001b[0m\u001b[0;34m,\u001b[0m \u001b[0ms\u001b[0m\u001b[0;34m=\u001b[0m\u001b[0;36m50\u001b[0m\u001b[0;34m,\u001b[0m \u001b[0mc\u001b[0m\u001b[0;34m=\u001b[0m\u001b[0;34m'red'\u001b[0m\u001b[0;34m,\u001b[0m \u001b[0mlabel\u001b[0m \u001b[0;34m=\u001b[0m \u001b[0;34m'Cluster 2'\u001b[0m\u001b[0;34m)\u001b[0m\u001b[0;34m\u001b[0m\u001b[0;34m\u001b[0m\u001b[0m\n\u001b[1;32m      5\u001b[0m \u001b[0mCluster_3\u001b[0m \u001b[0;34m=\u001b[0m \u001b[0mplt\u001b[0m\u001b[0;34m.\u001b[0m\u001b[0mscatter\u001b[0m\u001b[0;34m(\u001b[0m\u001b[0mnormalized_Wenner_sensor_ECa_calculated\u001b[0m\u001b[0;34m[\u001b[0m\u001b[0mY\u001b[0m\u001b[0;34m==\u001b[0m\u001b[0;36m2\u001b[0m\u001b[0;34m,\u001b[0m\u001b[0;36m0\u001b[0m\u001b[0;34m]\u001b[0m\u001b[0;34m,\u001b[0m \u001b[0mnormalized_Wenner_sensor_ECa_calculated\u001b[0m\u001b[0;34m[\u001b[0m\u001b[0mY\u001b[0m\u001b[0;34m==\u001b[0m\u001b[0;36m2\u001b[0m\u001b[0;34m,\u001b[0m\u001b[0;36m1\u001b[0m\u001b[0;34m]\u001b[0m\u001b[0;34m,\u001b[0m \u001b[0ms\u001b[0m\u001b[0;34m=\u001b[0m\u001b[0;36m50\u001b[0m\u001b[0;34m,\u001b[0m \u001b[0mc\u001b[0m\u001b[0;34m=\u001b[0m\u001b[0;34m'yellow'\u001b[0m\u001b[0;34m,\u001b[0m \u001b[0mlabel\u001b[0m \u001b[0;34m=\u001b[0m \u001b[0;34m'Cluster 3'\u001b[0m\u001b[0;34m)\u001b[0m\u001b[0;34m\u001b[0m\u001b[0;34m\u001b[0m\u001b[0m\n",
            "\u001b[0;31mIndexError\u001b[0m: index 1 is out of bounds for axis 1 with size 1"
          ]
        },
        {
          "output_type": "display_data",
          "data": {
            "text/plain": [
              "<Figure size 1500x1500 with 0 Axes>"
            ]
          },
          "metadata": {}
        }
      ]
    },
    {
      "cell_type": "markdown",
      "source": [
        "#Here the indxes for the cities are allocated as\n",
        "\n",
        "\n",
        "*  0.0 --> Kegalle\n",
        "*  0.25--> Jaffna\n",
        "*  0.5 --> Piliyandala\n",
        "*  0.75--> Anuradhapura\n",
        "*  1-----> Rathnapura\n",
        "\n",
        "Overall 4 clusters are presented in this scatter plot. According to the collected data samples, this scatter plot represents that the Kegalle and Jaffna both areas can be allocated to one salinity cluster. The salinity of Piliyandala areas can be clustered into 2 clusters. The salinity of Anuradhapura and Rathnapura areas can be clustered in to same cluster.\n",
        "\n",
        "\n",
        "\n"
      ],
      "metadata": {
        "id": "n0V5mHDXXGHK"
      }
    },
    {
      "cell_type": "markdown",
      "source": [
        "Lets try to cluster only the ECa data with the Wenner Readings itself."
      ],
      "metadata": {
        "id": "mkCwDumyfnFt"
      }
    },
    {
      "cell_type": "code",
      "source": [
        "Z = wenner_data_drop.iloc[:,[0,1]].values\n",
        "print(Z)\n"
      ],
      "metadata": {
        "colab": {
          "base_uri": "https://localhost:8080/"
        },
        "id": "2tzIk-n2fai9",
        "outputId": "0f0695ee-74db-4b4d-e2b1-da2bafc77dc0"
      },
      "execution_count": null,
      "outputs": [
        {
          "output_type": "stream",
          "name": "stdout",
          "text": [
            "[[ 603.            7.39027928]\n",
            " [ 905.            4.92413084]\n",
            " [1030.            4.32654214]\n",
            " [ 717.            6.2152558 ]\n",
            " [ 878.            5.07555627]\n",
            " [ 749.            5.9497175 ]\n",
            " [ 784.            5.68410511]\n",
            " [ 900.            4.95148712]\n",
            " [ 846.            5.26753949]\n",
            " [ 908.            4.90786168]\n",
            " [1009.            4.4165891 ]\n",
            " [ 689.            6.46783513]\n",
            " [1427.            3.12287204]\n",
            " [ 816.            5.46119903]\n",
            " [ 769.            5.79497842]\n",
            " [1000.            4.45633841]\n",
            " [ 867.            5.13995203]\n",
            " [ 907.            4.91327278]\n",
            " [ 819.            5.44119464]\n",
            " [1207.            3.69207822]\n",
            " [ 973.            4.57999836]\n",
            " [ 843.            5.28628518]\n",
            " [1159.            3.84498568]\n",
            " [1107.            4.02559928]\n",
            " [ 878.            5.07555627]\n",
            " [ 900.            4.95148712]\n",
            " [1228.            3.62894007]\n",
            " [1350.            3.30099141]\n",
            " [ 713.            6.25012399]\n",
            " [ 999.            4.46079921]\n",
            " [ 798.            5.58438397]\n",
            " [ 977.            4.56124709]\n",
            " [ 890.            5.0071218 ]\n",
            " [ 677.            6.58247918]\n",
            " [ 896.            4.97359197]\n",
            " [1047.            4.25629265]\n",
            " [1103.            4.04019801]\n",
            " [1424.            3.12945113]\n",
            " [ 869.            5.12812245]\n",
            " [1067.            4.1765121 ]\n",
            " [ 882.            5.05253788]\n",
            " [ 780.            5.71325437]\n",
            " [1400.            3.18309886]\n",
            " [1316.            3.38627538]\n",
            " [ 994.            4.48323783]\n",
            " [1265.            3.52279716]\n",
            " [ 963.            4.62755805]\n",
            " [ 727.            6.12976397]\n",
            " [ 823.            5.41474898]\n",
            " [1355.            3.28881063]\n",
            " [ 992.            4.49227662]\n",
            " [ 796.            5.59841508]\n",
            " [1181.            3.77336021]\n",
            " [1000.            4.45633841]\n",
            " [ 834.            5.34333142]\n",
            " [ 970.            4.59416331]\n",
            " [ 806.            5.52895584]\n",
            " [ 998.            4.46526894]\n",
            " [ 860.            5.18178884]\n",
            " [ 818.            5.44784646]\n",
            " [1082.            4.11861221]\n",
            " [ 783.            5.6913645 ]\n",
            " [1092.            4.08089598]\n",
            " [ 930.            4.79176173]\n",
            " [ 991.            4.49680969]\n",
            " [1213.            3.67381567]\n",
            " [1303.            3.42006017]\n",
            " [ 831.            5.36262143]\n",
            " [ 953.            4.67611585]\n",
            " [1000.            4.45633841]\n",
            " [1094.            4.07343547]\n",
            " [ 930.            4.79176173]\n",
            " [ 843.            5.28628518]\n",
            " [ 947.            4.70574277]\n",
            " [1038.            4.29319692]\n",
            " [1002.            4.44744352]\n",
            " [ 893.            4.99030057]\n",
            " [ 782.            5.69864246]\n",
            " [1249.            3.56792506]\n",
            " [1100.            4.05121673]\n",
            " [ 790.            5.64093469]\n",
            " [ 972.            4.58471029]\n",
            " [1103.            4.04019801]\n",
            " [1094.            4.07343547]\n",
            " [ 940.            4.74078554]\n",
            " [1089.            4.09213811]\n",
            " [ 823.            5.41474898]\n",
            " [1000.            4.45633841]\n",
            " [ 913.            4.88098402]\n",
            " [ 883.            5.04681586]\n",
            " [1047.            4.25629265]\n",
            " [1102.            4.04386425]\n",
            " [ 894.            4.98471858]\n",
            " [ 722.            6.17221386]\n",
            " [ 923.            4.82810228]\n",
            " [ 824.            5.40817768]\n",
            " [ 986.            4.51961299]\n",
            " [ 983.            4.53340631]\n",
            " [ 793.            5.61959446]\n",
            " [ 840.            5.30516477]\n",
            " [ 968.            4.60365538]\n",
            " [ 945.            4.71570202]\n",
            " [ 803.            5.54961196]\n",
            " [1013.            4.39914946]\n",
            " [1014.            4.39481105]\n",
            " [ 701.            6.35711613]\n",
            " [1026.            4.34340975]\n",
            " [1000.            4.45633841]\n",
            " [ 970.            4.59416331]\n",
            " [1132.            3.9366947 ]\n",
            " [ 846.            5.26753949]\n",
            " [ 884.            5.0411068 ]\n",
            " [1129.            3.94715536]\n",
            " [1000.            4.45633841]\n",
            " [ 864.            5.15779908]\n",
            " [ 995.            4.47873207]\n",
            " [ 970.            4.59416331]\n",
            " [ 953.            4.67611585]\n",
            " [ 915.            4.8703152 ]\n",
            " [ 996.            4.47423535]\n",
            " [1078.            4.13389463]\n",
            " [ 984.            4.52879919]\n",
            " [ 994.            4.48323783]\n",
            " [ 967.            4.60841614]\n",
            " [1065.            4.18435531]\n",
            " [ 964.            4.62275768]\n",
            " [ 937.            4.75596415]\n",
            " [1116.            3.99313477]\n",
            " [ 964.            4.62275768]\n",
            " [1059.            4.20806271]\n",
            " [ 891.            5.00150214]\n",
            " [ 998.            4.46526894]\n",
            " [ 897.            4.96804728]\n",
            " [ 984.            4.52879919]\n",
            " [ 968.            4.60365538]\n",
            " [ 729.            6.11294706]\n",
            " [ 931.            4.78661483]\n",
            " [ 957.            4.65657096]\n",
            " [1103.            4.04019801]\n",
            " [1017.            4.38184701]\n",
            " [ 984.            4.52879919]\n",
            " [ 946.            4.71071713]\n",
            " [ 853.            5.22431232]\n",
            " [ 988.            4.51046397]\n",
            " [ 978.            4.55658324]\n",
            " [ 864.            5.15779908]\n",
            " [ 799.            5.57739475]\n",
            " [1163.            3.83176131]\n",
            " [ 883.            5.04681586]\n",
            " [ 949.            4.69582551]\n",
            " [ 756.            5.89462752]\n",
            " [1092.            4.08089598]\n",
            " [1186.            3.75745228]\n",
            " [ 959.            4.64685965]\n",
            " [1177.            3.78618386]\n",
            " [ 956.            4.66144185]\n",
            " [ 873.            5.10462589]\n",
            " [1247.            3.57364748]\n",
            " [1000.            4.45633841]\n",
            " [ 864.            5.15779908]\n",
            " [ 915.            4.8703152 ]\n",
            " [ 834.            5.34333142]\n",
            " [ 909.            4.90246249]\n",
            " [1065.            4.18435531]\n",
            " [ 895.            4.97914906]\n",
            " [ 853.            5.22431232]\n",
            " [1029.            4.33074675]\n",
            " [ 745.            5.98166229]\n",
            " [ 893.            4.99030057]\n",
            " [1007.            4.42536088]\n",
            " [1087.            4.09966735]\n",
            " [ 835.            5.33693222]\n",
            " [ 994.            4.48323783]\n",
            " [1067.            4.1765121 ]\n",
            " [ 904.            4.92957788]\n",
            " [ 870.            5.12222805]\n",
            " [1000.            4.45633841]\n",
            " [ 878.            5.07555627]\n",
            " [ 912.            4.88633597]\n",
            " [ 820.            5.43455903]\n",
            " [1000.            4.45633841]\n",
            " [ 889.            5.01275411]\n",
            " [ 985.            4.52420143]\n",
            " [1034.            4.30980504]\n",
            " [1209.            3.68597056]\n",
            " [ 710.            6.27653297]\n",
            " [ 890.            5.0071218 ]\n",
            " [ 756.            5.89462752]\n",
            " [ 967.            4.60841614]\n",
            " [ 776.            5.74270413]\n",
            " [ 920.            4.84384609]\n",
            " [1000.            4.45633841]\n",
            " [ 988.            4.51046397]\n",
            " [ 893.            4.99030057]\n",
            " [ 956.            4.66144185]]\n"
          ]
        }
      ]
    },
    {
      "cell_type": "code",
      "source": [
        "#Standardize data\n",
        "scaler = MinMaxScaler()\n",
        "scaler.fit(Z)\n",
        "\n",
        "Z_standardized = scaler.transform(Z)\n",
        "\n",
        "print(Z_standardized)"
      ],
      "metadata": {
        "colab": {
          "base_uri": "https://localhost:8080/"
        },
        "id": "dFPo9n4MgDMF",
        "outputId": "95e5d449-2750-4c2b-f8dc-09d73d7e9473"
      },
      "execution_count": null,
      "outputs": [
        {
          "output_type": "stream",
          "name": "stdout",
          "text": [
            "[[0.         1.        ]\n",
            " [0.36650485 0.42209677]\n",
            " [0.51820388 0.28206122]\n",
            " [0.13834951 0.72465166]\n",
            " [0.33373786 0.45758094]\n",
            " [0.17718447 0.66242693]\n",
            " [0.21966019 0.60018483]\n",
            " [0.36043689 0.42850728]\n",
            " [0.29490291 0.5025692 ]\n",
            " [0.37014563 0.41828434]\n",
            " [0.49271845 0.30316232]\n",
            " [0.10436893 0.78383967]\n",
            " [1.         0.        ]\n",
            " [0.25849515 0.54795028]\n",
            " [0.20145631 0.62616625]\n",
            " [0.48179612 0.31247694]\n",
            " [0.32038835 0.47267108]\n",
            " [0.36893204 0.41955235]\n",
            " [0.26213592 0.54326256]\n",
            " [0.73300971 0.13338454]\n",
            " [0.44902913 0.34145471]\n",
            " [0.29126214 0.50696196]\n",
            " [0.67475728 0.16921601]\n",
            " [0.61165049 0.21153998]\n",
            " [0.33373786 0.45758094]\n",
            " [0.36043689 0.42850728]\n",
            " [0.75849515 0.11858911]\n",
            " [0.9065534  0.04173948]\n",
            " [0.13349515 0.73282248]\n",
            " [0.48058252 0.31352226]\n",
            " [0.23665049 0.57681674]\n",
            " [0.4538835  0.33706065]\n",
            " [0.34830097 0.4415444 ]\n",
            " [0.08980583 0.81070471]\n",
            " [0.35558252 0.43368721]\n",
            " [0.53883495 0.26559935]\n",
            " [0.60679612 0.21496096]\n",
            " [0.99635922 0.00154171]\n",
            " [0.32281553 0.469899  ]\n",
            " [0.5631068  0.24690403]\n",
            " [0.33859223 0.45218694]\n",
            " [0.21480583 0.6070155 ]\n",
            " [0.96723301 0.01411321]\n",
            " [0.86529126 0.06172444]\n",
            " [0.47451456 0.3187804 ]\n",
            " [0.80339806 0.09371618]\n",
            " [0.4368932  0.35259958]\n",
            " [0.15048544 0.70461799]\n",
            " [0.26699029 0.53706544]\n",
            " [0.91262136 0.03888511]\n",
            " [0.47208738 0.3208985 ]\n",
            " [0.2342233  0.58010471]\n",
            " [0.70145631 0.15243171]\n",
            " [0.48179612 0.31247694]\n",
            " [0.28033981 0.52032985]\n",
            " [0.44538835 0.34477405]\n",
            " [0.24635922 0.56382803]\n",
            " [0.47936893 0.31456967]\n",
            " [0.3118932  0.48247488]\n",
            " [0.26092233 0.54482131]\n",
            " [0.58131068 0.2333361 ]\n",
            " [0.2184466  0.60188595]\n",
            " [0.5934466  0.22449789]\n",
            " [0.39684466 0.39107814]\n",
            " [0.47087379 0.32196075]\n",
            " [0.74029126 0.129105  ]\n",
            " [0.84951456 0.06964138]\n",
            " [0.27669903 0.52485016]\n",
            " [0.42475728 0.36397834]\n",
            " [0.48179612 0.31247694]\n",
            " [0.59587379 0.22274964]\n",
            " [0.39684466 0.39107814]\n",
            " [0.29126214 0.50696196]\n",
            " [0.41747573 0.37092095]\n",
            " [0.52791262 0.27424729]\n",
            " [0.4842233  0.31039256]\n",
            " [0.35194175 0.4376026 ]\n",
            " [0.21723301 0.60359143]\n",
            " [0.78398058 0.1042912 ]\n",
            " [0.60315534 0.21754303]\n",
            " [0.22694175 0.59006851]\n",
            " [0.44781553 0.34255888]\n",
            " [0.60679612 0.21496096]\n",
            " [0.59587379 0.22274964]\n",
            " [0.40898058 0.37913267]\n",
            " [0.58980583 0.22713231]\n",
            " [0.26699029 0.53706544]\n",
            " [0.48179612 0.31247694]\n",
            " [0.37621359 0.41198598]\n",
            " [0.33980583 0.45084608]\n",
            " [0.53883495 0.26559935]\n",
            " [0.60558252 0.21582009]\n",
            " [0.35315534 0.43629455]\n",
            " [0.14441748 0.71456546]\n",
            " [0.38834951 0.39959398]\n",
            " [0.26820388 0.53552556]\n",
            " [0.46480583 0.32730435]\n",
            " [0.46116505 0.3305366 ]\n",
            " [0.23058252 0.58506777]\n",
            " [0.28762136 0.5113861 ]\n",
            " [0.44296117 0.34699837]\n",
            " [0.41504854 0.37325474]\n",
            " [0.24271845 0.56866846]\n",
            " [0.49757282 0.29907561]\n",
            " [0.49878641 0.29805897]\n",
            " [0.11893204 0.75789441]\n",
            " [0.51334951 0.28601388]\n",
            " [0.48179612 0.31247694]\n",
            " [0.44538835 0.34477405]\n",
            " [0.64199029 0.19070659]\n",
            " [0.29490291 0.5025692 ]\n",
            " [0.34101942 0.44950825]\n",
            " [0.63834951 0.19315788]\n",
            " [0.48179612 0.31247694]\n",
            " [0.31674757 0.47685326]\n",
            " [0.47572816 0.31772455]\n",
            " [0.44538835 0.34477405]\n",
            " [0.42475728 0.36397834]\n",
            " [0.37864078 0.40948591]\n",
            " [0.47694175 0.31667081]\n",
            " [0.57645631 0.2369173 ]\n",
            " [0.46237864 0.32945699]\n",
            " [0.47451456 0.3187804 ]\n",
            " [0.44174757 0.34811397]\n",
            " [0.56067961 0.24874197]\n",
            " [0.4381068  0.35147469]\n",
            " [0.40533981 0.38268954]\n",
            " [0.62257282 0.20393243]\n",
            " [0.4381068  0.35147469]\n",
            " [0.55339806 0.25429742]\n",
            " [0.34951456 0.44022752]\n",
            " [0.47936893 0.31456967]\n",
            " [0.35679612 0.43238789]\n",
            " [0.46237864 0.32945699]\n",
            " [0.44296117 0.34699837]\n",
            " [0.15291262 0.70067721]\n",
            " [0.39805825 0.38987204]\n",
            " [0.42961165 0.3593983 ]\n",
            " [0.60679612 0.21496096]\n",
            " [0.50242718 0.29502105]\n",
            " [0.46237864 0.32945699]\n",
            " [0.41626214 0.37208661]\n",
            " [0.30339806 0.49243959]\n",
            " [0.46723301 0.32516042]\n",
            " [0.45509709 0.33596775]\n",
            " [0.31674757 0.47685326]\n",
            " [0.23786408 0.57517893]\n",
            " [0.67961165 0.16611709]\n",
            " [0.33980583 0.45084608]\n",
            " [0.41990291 0.36859699]\n",
            " [0.18567961 0.64951745]\n",
            " [0.5934466  0.22449789]\n",
            " [0.70752427 0.14870393]\n",
            " [0.43203883 0.35712261]\n",
            " [0.69660194 0.15543673]\n",
            " [0.42839806 0.36053972]\n",
            " [0.3276699  0.46439295]\n",
            " [0.7815534  0.10563216]\n",
            " [0.48179612 0.31247694]\n",
            " [0.31674757 0.47685326]\n",
            " [0.37864078 0.40948591]\n",
            " [0.28033981 0.52032985]\n",
            " [0.37135922 0.41701913]\n",
            " [0.56067961 0.24874197]\n",
            " [0.35436893 0.43498942]\n",
            " [0.30339806 0.49243959]\n",
            " [0.51699029 0.28304651]\n",
            " [0.1723301  0.66991269]\n",
            " [0.35194175 0.4376026 ]\n",
            " [0.49029126 0.30521784]\n",
            " [0.58737864 0.22889667]\n",
            " [0.2815534  0.5188303 ]\n",
            " [0.47451456 0.3187804 ]\n",
            " [0.5631068  0.24690403]\n",
            " [0.36529126 0.4233732 ]\n",
            " [0.32402913 0.46851774]\n",
            " [0.48179612 0.31247694]\n",
            " [0.33373786 0.45758094]\n",
            " [0.375      0.41324013]\n",
            " [0.26334951 0.54170761]\n",
            " [0.48179612 0.31247694]\n",
            " [0.34708738 0.44286424]\n",
            " [0.46359223 0.32837958]\n",
            " [0.52305825 0.27813914]\n",
            " [0.73543689 0.13195331]\n",
            " [0.12985437 0.73901101]\n",
            " [0.34830097 0.4415444 ]\n",
            " [0.18567961 0.64951745]\n",
            " [0.44174757 0.34811397]\n",
            " [0.20995146 0.61391659]\n",
            " [0.38470874 0.40328329]\n",
            " [0.48179612 0.31247694]\n",
            " [0.46723301 0.32516042]\n",
            " [0.35194175 0.4376026 ]\n",
            " [0.42839806 0.36053972]]\n"
          ]
        }
      ]
    },
    {
      "cell_type": "code",
      "source": [
        "#lets find for wenner readings how many optimum clusters are there.\n",
        "\n",
        "wcss = []\n",
        "\n",
        "for i in range(1,11):\n",
        "  kmeans = KMeans(n_clusters=i, init = 'k-means++', random_state= 42)\n",
        "  kmeans.fit(Z_standardized)\n",
        "\n",
        "  wcss.append(kmeans.inertia_)\n",
        "\n",
        "#plot an elbow graph\n",
        "\n",
        "plt.figure(figsize=(12,12))\n",
        "sns.set()\n",
        "plt.plot(range(1,11), wcss)\n",
        "plt.title('The Elbow Point Graph')\n",
        "plt.xlabel('Number of clusters')\n",
        "plt.ylabel('WCSS')\n",
        "plt.show"
      ],
      "metadata": {
        "colab": {
          "base_uri": "https://localhost:8080/",
          "height": 753
        },
        "id": "ABvAvh39gMp8",
        "outputId": "f0e6a88e-169c-4e07-c295-8feec7cb1a80"
      },
      "execution_count": null,
      "outputs": [
        {
          "output_type": "execute_result",
          "data": {
            "text/plain": [
              "<function matplotlib.pyplot.show>"
            ]
          },
          "metadata": {},
          "execution_count": 10
        },
        {
          "output_type": "display_data",
          "data": {
            "text/plain": [
              "<Figure size 864x864 with 1 Axes>"
            ],
            "image/png": "[encoded data removed]"
          },
          "metadata": {
            "needs_background": "light"
          }
        }
      ]
    },
    {
      "cell_type": "code",
      "source": [
        "#the optimum no of clusters are 4.\n",
        "\n",
        "kmeans = KMeans(n_clusters = 4, init = 'k-means++', random_state= 4)\n",
        "\n",
        "ZZ = kmeans.fit_predict(Z_standardized)\n",
        "print(ZZ)\n",
        "\n"
      ],
      "metadata": {
        "colab": {
          "base_uri": "https://localhost:8080/"
        },
        "id": "5_PCjEKGgkaN",
        "outputId": "ce579dff-6c64-4b9e-fc4f-98fa8888cd18"
      },
      "execution_count": null,
      "outputs": [
        {
          "output_type": "stream",
          "name": "stdout",
          "text": [
            "[2 0 3 2 0 2 2 0 0 0 3 2 1 0 2 3 0 0 0 1 3 0 1 3 0 0 1 1 2 3 2 3 0 2 0 3 3\n",
            " 1 0 3 0 2 1 1 3 1 3 2 0 1 3 2 1 3 0 3 2 3 0 0 3 2 3 0 3 1 1 0 3 3 3 0 0 3\n",
            " 3 3 0 2 1 3 2 3 3 3 0 3 0 3 0 0 3 3 0 2 0 0 3 3 2 0 3 3 2 3 3 2 3 3 3 3 0\n",
            " 0 3 3 0 3 3 3 0 3 3 3 3 3 3 3 0 3 3 3 0 3 0 3 3 2 0 3 3 3 3 3 0 3 3 0 2 1\n",
            " 0 3 2 3 1 3 1 3 0 1 3 0 0 0 0 3 0 0 3 2 0 3 3 0 3 3 0 0 3 0 0 0 3 0 3 3 1\n",
            " 2 0 2 3 2 0 3 3 0 3]\n"
          ]
        }
      ]
    },
    {
      "cell_type": "code",
      "source": [
        "plt.figure(figsize=(30,15))\n",
        "\n",
        "Cluster_1 = plt.scatter(Z_standardized[Y==0,0], Z_standardized[Y==0,1], s=50, c='red', label = 'Cluster 1')\n",
        "Cluster_2 = plt.scatter(Z_standardized[Y==1,0], Z_standardized[Y==1,1], s=50, c='green', label = 'Cluster 2')\n",
        "Cluster_3 = plt.scatter(Z_standardized[Y==2,0], Z_standardized[Y==2,1], s=50, c='violet', label = 'Cluster 3')\n",
        "Cluster_4 = plt.scatter(Z_standardized[Y==3,0], Z_standardized[Y==3,1], s=50, c='yellow', label = 'Cluster 4')\n",
        "\n",
        "\n",
        "#plot the centroids\n",
        "\n",
        "Centroids = plt.scatter (kmeans.cluster_centers_[:, 0], kmeans.cluster_centers_[:,1], s=100, c='black', label= 'Centroids', marker = '*')\n",
        "\n",
        "plt.title('Salinity Clusters')\n",
        "plt.xlabel('Wenner Reading')\n",
        "plt.ylabel('Wenner ECa Reading')\n",
        "\n",
        "plt.legend((Cluster_1 , Cluster_2 , Cluster_3 , Cluster_4, Centroids),\n",
        "           ('Cluster_1','Cluster_2', 'Cluster_3', 'Cluster_4', 'Centroids'),\n",
        "           scatterpoints=1,\n",
        "           loc='upper right',\n",
        "           ncol=3,\n",
        "           fontsize=12)\n",
        "\n",
        "plt.show()"
      ],
      "metadata": {
        "id": "UiI26vOKg8Dt"
      },
      "execution_count": null,
      "outputs": []
    }
  ]
}