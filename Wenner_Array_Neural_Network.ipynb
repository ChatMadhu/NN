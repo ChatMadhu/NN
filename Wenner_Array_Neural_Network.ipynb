{
  "nbformat": 4,
  "nbformat_minor": 0,
  "metadata": {
    "colab": {
      "name": "Wenner Array Neural Network.ipynb",
      "provenance": [],
      "collapsed_sections": [],
      "authorship_tag": "ABX9TyMkNR+L2Avd5I1229qh6IZk",
      "include_colab_link": true
    },
    "kernelspec": {
      "name": "python3",
      "display_name": "Python 3"
    },
    "language_info": {
      "name": "python"
    }
  },
  "cells": [
    {
      "cell_type": "markdown",
      "metadata": {
        "id": "view-in-github",
        "colab_type": "text"
      },
      "source": [
        "<a href=\"https://colab.research.google.com/github/ChatMadhu/NN/blob/main/Wenner_Array_Neural_Network.ipynb\" target=\"_parent\"><img src=\"https://colab.research.google.com/assets/colab-badge.svg\" alt=\"Open In Colab\"/></a>"
      ]
    },
    {
      "cell_type": "code",
      "execution_count": 82,
      "metadata": {
        "id": "DZVjYUUN7Pd5"
      },
      "outputs": [],
      "source": [
        "import pandas as pd\n",
        "import tensorflow as tf\n",
        "from tensorflow.keras import layers, models\n",
        "import numpy as np\n",
        "import keras\n",
        "from sklearn.model_selection import train_test_split"
      ]
    },
    {
      "cell_type": "code",
      "source": [
        "dataset = pd.read_csv('/content/Neural Network Sensor data - Copy  with other classes.csv')"
      ],
      "metadata": {
        "id": "Yl2dBe3F8ARQ"
      },
      "execution_count": 83,
      "outputs": []
    },
    {
      "cell_type": "code",
      "source": [
        "dataset.shape"
      ],
      "metadata": {
        "colab": {
          "base_uri": "https://localhost:8080/"
        },
        "id": "W_aA9e_v7eL5",
        "outputId": "2722cdaf-f444-46c8-8b93-d9afc10bedea"
      },
      "execution_count": 84,
      "outputs": [
        {
          "output_type": "execute_result",
          "data": {
            "text/plain": [
              "(454, 15)"
            ]
          },
          "metadata": {},
          "execution_count": 84
        }
      ]
    },
    {
      "cell_type": "code",
      "source": [
        "dataset.head()"
      ],
      "metadata": {
        "colab": {
          "base_uri": "https://localhost:8080/",
          "height": 288
        },
        "id": "4JegGkXD9yM4",
        "outputId": "f30cd265-96e7-45e0-b702-23aaa36c4177"
      },
      "execution_count": 85,
      "outputs": [
        {
          "output_type": "execute_result",
          "data": {
            "text/plain": [
              "       Date      Time   Temp  V(10mA)  V(10.5mA)  V(11mA)  V(11.5mA)  V(12mA)  \\\n",
              "0  5/8/2022  16:37:52  29.25     7.70       8.02     8.37       8.66     9.08   \n",
              "1  5/8/2022  16:53:10  29.25     8.80       9.65    10.01      10.11    10.25   \n",
              "2  5/8/2022  17:14:05  29.13     8.59       9.01     9.37       9.72    10.15   \n",
              "3  5/8/2022  17:15:43  28.94     6.88       7.10     7.42       7.45     8.09   \n",
              "4  5/8/2022  17:16:47  29.13     6.92       7.27     7.42       7.81     8.16   \n",
              "\n",
              "   V(12.5mA)  V(13mA)  V(13.5mA)  V(14mA)  V(14.5mA)  sample number  \\\n",
              "0       9.44     9.83      10.04    10.40      10.57              1   \n",
              "1      10.72    11.07      11.43    11.85      12.35              1   \n",
              "2      10.54    10.89      11.25    11.60      12.03              1   \n",
              "3       8.34     8.69       9.01     9.30       9.55              1   \n",
              "4       8.45     8.76       9.01     9.26       9.69              1   \n",
              "\n",
              "   Slinity_Class  \n",
              "0              1  \n",
              "1              1  \n",
              "2              1  \n",
              "3              1  \n",
              "4              1  "
            ],
            "text/html": [
              "\n",
              "  <div id=\"df-924eab5e-8f95-4d50-920c-af60eb6551bb\">\n",
              "    <div class=\"colab-df-container\">\n",
              "      <div>\n",
              "<style scoped>\n",
              "    .dataframe tbody tr th:only-of-type {\n",
              "        vertical-align: middle;\n",
              "    }\n",
              "\n",
              "    .dataframe tbody tr th {\n",
              "        vertical-align: top;\n",
              "    }\n",
              "\n",
              "    .dataframe thead th {\n",
              "        text-align: right;\n",
              "    }\n",
              "</style>\n",
              "<table border=\"1\" class=\"dataframe\">\n",
              "  <thead>\n",
              "    <tr style=\"text-align: right;\">\n",
              "      <th></th>\n",
              "      <th>Date</th>\n",
              "      <th>Time</th>\n",
              "      <th>Temp</th>\n",
              "      <th>V(10mA)</th>\n",
              "      <th>V(10.5mA)</th>\n",
              "      <th>V(11mA)</th>\n",
              "      <th>V(11.5mA)</th>\n",
              "      <th>V(12mA)</th>\n",
              "      <th>V(12.5mA)</th>\n",
              "      <th>V(13mA)</th>\n",
              "      <th>V(13.5mA)</th>\n",
              "      <th>V(14mA)</th>\n",
              "      <th>V(14.5mA)</th>\n",
              "      <th>sample number</th>\n",
              "      <th>Slinity_Class</th>\n",
              "    </tr>\n",
              "  </thead>\n",
              "  <tbody>\n",
              "    <tr>\n",
              "      <th>0</th>\n",
              "      <td>5/8/2022</td>\n",
              "      <td>16:37:52</td>\n",
              "      <td>29.25</td>\n",
              "      <td>7.70</td>\n",
              "      <td>8.02</td>\n",
              "      <td>8.37</td>\n",
              "      <td>8.66</td>\n",
              "      <td>9.08</td>\n",
              "      <td>9.44</td>\n",
              "      <td>9.83</td>\n",
              "      <td>10.04</td>\n",
              "      <td>10.40</td>\n",
              "      <td>10.57</td>\n",
              "      <td>1</td>\n",
              "      <td>1</td>\n",
              "    </tr>\n",
              "    <tr>\n",
              "      <th>1</th>\n",
              "      <td>5/8/2022</td>\n",
              "      <td>16:53:10</td>\n",
              "      <td>29.25</td>\n",
              "      <td>8.80</td>\n",
              "      <td>9.65</td>\n",
              "      <td>10.01</td>\n",
              "      <td>10.11</td>\n",
              "      <td>10.25</td>\n",
              "      <td>10.72</td>\n",
              "      <td>11.07</td>\n",
              "      <td>11.43</td>\n",
              "      <td>11.85</td>\n",
              "      <td>12.35</td>\n",
              "      <td>1</td>\n",
              "      <td>1</td>\n",
              "    </tr>\n",
              "    <tr>\n",
              "      <th>2</th>\n",
              "      <td>5/8/2022</td>\n",
              "      <td>17:14:05</td>\n",
              "      <td>29.13</td>\n",
              "      <td>8.59</td>\n",
              "      <td>9.01</td>\n",
              "      <td>9.37</td>\n",
              "      <td>9.72</td>\n",
              "      <td>10.15</td>\n",
              "      <td>10.54</td>\n",
              "      <td>10.89</td>\n",
              "      <td>11.25</td>\n",
              "      <td>11.60</td>\n",
              "      <td>12.03</td>\n",
              "      <td>1</td>\n",
              "      <td>1</td>\n",
              "    </tr>\n",
              "    <tr>\n",
              "      <th>3</th>\n",
              "      <td>5/8/2022</td>\n",
              "      <td>17:15:43</td>\n",
              "      <td>28.94</td>\n",
              "      <td>6.88</td>\n",
              "      <td>7.10</td>\n",
              "      <td>7.42</td>\n",
              "      <td>7.45</td>\n",
              "      <td>8.09</td>\n",
              "      <td>8.34</td>\n",
              "      <td>8.69</td>\n",
              "      <td>9.01</td>\n",
              "      <td>9.30</td>\n",
              "      <td>9.55</td>\n",
              "      <td>1</td>\n",
              "      <td>1</td>\n",
              "    </tr>\n",
              "    <tr>\n",
              "      <th>4</th>\n",
              "      <td>5/8/2022</td>\n",
              "      <td>17:16:47</td>\n",
              "      <td>29.13</td>\n",
              "      <td>6.92</td>\n",
              "      <td>7.27</td>\n",
              "      <td>7.42</td>\n",
              "      <td>7.81</td>\n",
              "      <td>8.16</td>\n",
              "      <td>8.45</td>\n",
              "      <td>8.76</td>\n",
              "      <td>9.01</td>\n",
              "      <td>9.26</td>\n",
              "      <td>9.69</td>\n",
              "      <td>1</td>\n",
              "      <td>1</td>\n",
              "    </tr>\n",
              "  </tbody>\n",
              "</table>\n",
              "</div>\n",
              "      <button class=\"colab-df-convert\" onclick=\"convertToInteractive('df-924eab5e-8f95-4d50-920c-af60eb6551bb')\"\n",
              "              title=\"Convert this dataframe to an interactive table.\"\n",
              "              style=\"display:none;\">\n",
              "        \n",
              "  <svg xmlns=\"http://www.w3.org/2000/svg\" height=\"24px\"viewBox=\"0 0 24 24\"\n",
              "       width=\"24px\">\n",
              "    <path d=\"M0 0h24v24H0V0z\" fill=\"none\"/>\n",
              "    <path d=\"M18.56 5.44l.94 2.06.94-2.06 2.06-.94-2.06-.94-.94-2.06-.94 2.06-2.06.94zm-11 1L8.5 8.5l.94-2.06 2.06-.94-2.06-.94L8.5 2.5l-.94 2.06-2.06.94zm10 10l.94 2.06.94-2.06 2.06-.94-2.06-.94-.94-2.06-.94 2.06-2.06.94z\"/><path d=\"M17.41 7.96l-1.37-1.37c-.4-.4-.92-.59-1.43-.59-.52 0-1.04.2-1.43.59L10.3 9.45l-7.72 7.72c-.78.78-.78 2.05 0 2.83L4 21.41c.39.39.9.59 1.41.59.51 0 1.02-.2 1.41-.59l7.78-7.78 2.81-2.81c.8-.78.8-2.07 0-2.86zM5.41 20L4 18.59l7.72-7.72 1.47 1.35L5.41 20z\"/>\n",
              "  </svg>\n",
              "      </button>\n",
              "      \n",
              "  <style>\n",
              "    .colab-df-container {\n",
              "      display:flex;\n",
              "      flex-wrap:wrap;\n",
              "      gap: 12px;\n",
              "    }\n",
              "\n",
              "    .colab-df-convert {\n",
              "      background-color: #E8F0FE;\n",
              "      border: none;\n",
              "      border-radius: 50%;\n",
              "      cursor: pointer;\n",
              "      display: none;\n",
              "      fill: #1967D2;\n",
              "      height: 32px;\n",
              "      padding: 0 0 0 0;\n",
              "      width: 32px;\n",
              "    }\n",
              "\n",
              "    .colab-df-convert:hover {\n",
              "      background-color: #E2EBFA;\n",
              "      box-shadow: 0px 1px 2px rgba(60, 64, 67, 0.3), 0px 1px 3px 1px rgba(60, 64, 67, 0.15);\n",
              "      fill: #174EA6;\n",
              "    }\n",
              "\n",
              "    [theme=dark] .colab-df-convert {\n",
              "      background-color: #3B4455;\n",
              "      fill: #D2E3FC;\n",
              "    }\n",
              "\n",
              "    [theme=dark] .colab-df-convert:hover {\n",
              "      background-color: #434B5C;\n",
              "      box-shadow: 0px 1px 3px 1px rgba(0, 0, 0, 0.15);\n",
              "      filter: drop-shadow(0px 1px 2px rgba(0, 0, 0, 0.3));\n",
              "      fill: #FFFFFF;\n",
              "    }\n",
              "  </style>\n",
              "\n",
              "      <script>\n",
              "        const buttonEl =\n",
              "          document.querySelector('#df-924eab5e-8f95-4d50-920c-af60eb6551bb button.colab-df-convert');\n",
              "        buttonEl.style.display =\n",
              "          google.colab.kernel.accessAllowed ? 'block' : 'none';\n",
              "\n",
              "        async function convertToInteractive(key) {\n",
              "          const element = document.querySelector('#df-924eab5e-8f95-4d50-920c-af60eb6551bb');\n",
              "          const dataTable =\n",
              "            await google.colab.kernel.invokeFunction('convertToInteractive',\n",
              "                                                     [key], {});\n",
              "          if (!dataTable) return;\n",
              "\n",
              "          const docLinkHtml = 'Like what you see? Visit the ' +\n",
              "            '<a target=\"_blank\" href=https://colab.research.google.com/notebooks/data_table.ipynb>data table notebook</a>'\n",
              "            + ' to learn more about interactive tables.';\n",
              "          element.innerHTML = '';\n",
              "          dataTable['output_type'] = 'display_data';\n",
              "          await google.colab.output.renderOutput(dataTable, element);\n",
              "          const docLink = document.createElement('div');\n",
              "          docLink.innerHTML = docLinkHtml;\n",
              "          element.appendChild(docLink);\n",
              "        }\n",
              "      </script>\n",
              "    </div>\n",
              "  </div>\n",
              "  "
            ]
          },
          "metadata": {},
          "execution_count": 85
        }
      ]
    },
    {
      "cell_type": "code",
      "source": [
        "dataset.drop(\"sample number\", axis=1, inplace=True)\n",
        "dataset.drop(\"Date\", axis=1, inplace=True)\n",
        "dataset.drop(\"Time\", axis=1, inplace=True)\n"
      ],
      "metadata": {
        "id": "M8EaLq0E8nO_"
      },
      "execution_count": 86,
      "outputs": []
    },
    {
      "cell_type": "code",
      "source": [
        "dataset.head()"
      ],
      "metadata": {
        "colab": {
          "base_uri": "https://localhost:8080/",
          "height": 206
        },
        "id": "sdRAcW5W98oY",
        "outputId": "3ba596d4-2077-4d67-97b6-a3e711dd7402"
      },
      "execution_count": 87,
      "outputs": [
        {
          "output_type": "execute_result",
          "data": {
            "text/plain": [
              "    Temp  V(10mA)  V(10.5mA)  V(11mA)  V(11.5mA)  V(12mA)  V(12.5mA)  V(13mA)  \\\n",
              "0  29.25     7.70       8.02     8.37       8.66     9.08       9.44     9.83   \n",
              "1  29.25     8.80       9.65    10.01      10.11    10.25      10.72    11.07   \n",
              "2  29.13     8.59       9.01     9.37       9.72    10.15      10.54    10.89   \n",
              "3  28.94     6.88       7.10     7.42       7.45     8.09       8.34     8.69   \n",
              "4  29.13     6.92       7.27     7.42       7.81     8.16       8.45     8.76   \n",
              "\n",
              "   V(13.5mA)  V(14mA)  V(14.5mA)  Slinity_Class  \n",
              "0      10.04    10.40      10.57              1  \n",
              "1      11.43    11.85      12.35              1  \n",
              "2      11.25    11.60      12.03              1  \n",
              "3       9.01     9.30       9.55              1  \n",
              "4       9.01     9.26       9.69              1  "
            ],
            "text/html": [
              "\n",
              "  <div id=\"df-e113a73b-8570-455a-9e0b-f0a56260c197\">\n",
              "    <div class=\"colab-df-container\">\n",
              "      <div>\n",
              "<style scoped>\n",
              "    .dataframe tbody tr th:only-of-type {\n",
              "        vertical-align: middle;\n",
              "    }\n",
              "\n",
              "    .dataframe tbody tr th {\n",
              "        vertical-align: top;\n",
              "    }\n",
              "\n",
              "    .dataframe thead th {\n",
              "        text-align: right;\n",
              "    }\n",
              "</style>\n",
              "<table border=\"1\" class=\"dataframe\">\n",
              "  <thead>\n",
              "    <tr style=\"text-align: right;\">\n",
              "      <th></th>\n",
              "      <th>Temp</th>\n",
              "      <th>V(10mA)</th>\n",
              "      <th>V(10.5mA)</th>\n",
              "      <th>V(11mA)</th>\n",
              "      <th>V(11.5mA)</th>\n",
              "      <th>V(12mA)</th>\n",
              "      <th>V(12.5mA)</th>\n",
              "      <th>V(13mA)</th>\n",
              "      <th>V(13.5mA)</th>\n",
              "      <th>V(14mA)</th>\n",
              "      <th>V(14.5mA)</th>\n",
              "      <th>Slinity_Class</th>\n",
              "    </tr>\n",
              "  </thead>\n",
              "  <tbody>\n",
              "    <tr>\n",
              "      <th>0</th>\n",
              "      <td>29.25</td>\n",
              "      <td>7.70</td>\n",
              "      <td>8.02</td>\n",
              "      <td>8.37</td>\n",
              "      <td>8.66</td>\n",
              "      <td>9.08</td>\n",
              "      <td>9.44</td>\n",
              "      <td>9.83</td>\n",
              "      <td>10.04</td>\n",
              "      <td>10.40</td>\n",
              "      <td>10.57</td>\n",
              "      <td>1</td>\n",
              "    </tr>\n",
              "    <tr>\n",
              "      <th>1</th>\n",
              "      <td>29.25</td>\n",
              "      <td>8.80</td>\n",
              "      <td>9.65</td>\n",
              "      <td>10.01</td>\n",
              "      <td>10.11</td>\n",
              "      <td>10.25</td>\n",
              "      <td>10.72</td>\n",
              "      <td>11.07</td>\n",
              "      <td>11.43</td>\n",
              "      <td>11.85</td>\n",
              "      <td>12.35</td>\n",
              "      <td>1</td>\n",
              "    </tr>\n",
              "    <tr>\n",
              "      <th>2</th>\n",
              "      <td>29.13</td>\n",
              "      <td>8.59</td>\n",
              "      <td>9.01</td>\n",
              "      <td>9.37</td>\n",
              "      <td>9.72</td>\n",
              "      <td>10.15</td>\n",
              "      <td>10.54</td>\n",
              "      <td>10.89</td>\n",
              "      <td>11.25</td>\n",
              "      <td>11.60</td>\n",
              "      <td>12.03</td>\n",
              "      <td>1</td>\n",
              "    </tr>\n",
              "    <tr>\n",
              "      <th>3</th>\n",
              "      <td>28.94</td>\n",
              "      <td>6.88</td>\n",
              "      <td>7.10</td>\n",
              "      <td>7.42</td>\n",
              "      <td>7.45</td>\n",
              "      <td>8.09</td>\n",
              "      <td>8.34</td>\n",
              "      <td>8.69</td>\n",
              "      <td>9.01</td>\n",
              "      <td>9.30</td>\n",
              "      <td>9.55</td>\n",
              "      <td>1</td>\n",
              "    </tr>\n",
              "    <tr>\n",
              "      <th>4</th>\n",
              "      <td>29.13</td>\n",
              "      <td>6.92</td>\n",
              "      <td>7.27</td>\n",
              "      <td>7.42</td>\n",
              "      <td>7.81</td>\n",
              "      <td>8.16</td>\n",
              "      <td>8.45</td>\n",
              "      <td>8.76</td>\n",
              "      <td>9.01</td>\n",
              "      <td>9.26</td>\n",
              "      <td>9.69</td>\n",
              "      <td>1</td>\n",
              "    </tr>\n",
              "  </tbody>\n",
              "</table>\n",
              "</div>\n",
              "      <button class=\"colab-df-convert\" onclick=\"convertToInteractive('df-e113a73b-8570-455a-9e0b-f0a56260c197')\"\n",
              "              title=\"Convert this dataframe to an interactive table.\"\n",
              "              style=\"display:none;\">\n",
              "        \n",
              "  <svg xmlns=\"http://www.w3.org/2000/svg\" height=\"24px\"viewBox=\"0 0 24 24\"\n",
              "       width=\"24px\">\n",
              "    <path d=\"M0 0h24v24H0V0z\" fill=\"none\"/>\n",
              "    <path d=\"M18.56 5.44l.94 2.06.94-2.06 2.06-.94-2.06-.94-.94-2.06-.94 2.06-2.06.94zm-11 1L8.5 8.5l.94-2.06 2.06-.94-2.06-.94L8.5 2.5l-.94 2.06-2.06.94zm10 10l.94 2.06.94-2.06 2.06-.94-2.06-.94-.94-2.06-.94 2.06-2.06.94z\"/><path d=\"M17.41 7.96l-1.37-1.37c-.4-.4-.92-.59-1.43-.59-.52 0-1.04.2-1.43.59L10.3 9.45l-7.72 7.72c-.78.78-.78 2.05 0 2.83L4 21.41c.39.39.9.59 1.41.59.51 0 1.02-.2 1.41-.59l7.78-7.78 2.81-2.81c.8-.78.8-2.07 0-2.86zM5.41 20L4 18.59l7.72-7.72 1.47 1.35L5.41 20z\"/>\n",
              "  </svg>\n",
              "      </button>\n",
              "      \n",
              "  <style>\n",
              "    .colab-df-container {\n",
              "      display:flex;\n",
              "      flex-wrap:wrap;\n",
              "      gap: 12px;\n",
              "    }\n",
              "\n",
              "    .colab-df-convert {\n",
              "      background-color: #E8F0FE;\n",
              "      border: none;\n",
              "      border-radius: 50%;\n",
              "      cursor: pointer;\n",
              "      display: none;\n",
              "      fill: #1967D2;\n",
              "      height: 32px;\n",
              "      padding: 0 0 0 0;\n",
              "      width: 32px;\n",
              "    }\n",
              "\n",
              "    .colab-df-convert:hover {\n",
              "      background-color: #E2EBFA;\n",
              "      box-shadow: 0px 1px 2px rgba(60, 64, 67, 0.3), 0px 1px 3px 1px rgba(60, 64, 67, 0.15);\n",
              "      fill: #174EA6;\n",
              "    }\n",
              "\n",
              "    [theme=dark] .colab-df-convert {\n",
              "      background-color: #3B4455;\n",
              "      fill: #D2E3FC;\n",
              "    }\n",
              "\n",
              "    [theme=dark] .colab-df-convert:hover {\n",
              "      background-color: #434B5C;\n",
              "      box-shadow: 0px 1px 3px 1px rgba(0, 0, 0, 0.15);\n",
              "      filter: drop-shadow(0px 1px 2px rgba(0, 0, 0, 0.3));\n",
              "      fill: #FFFFFF;\n",
              "    }\n",
              "  </style>\n",
              "\n",
              "      <script>\n",
              "        const buttonEl =\n",
              "          document.querySelector('#df-e113a73b-8570-455a-9e0b-f0a56260c197 button.colab-df-convert');\n",
              "        buttonEl.style.display =\n",
              "          google.colab.kernel.accessAllowed ? 'block' : 'none';\n",
              "\n",
              "        async function convertToInteractive(key) {\n",
              "          const element = document.querySelector('#df-e113a73b-8570-455a-9e0b-f0a56260c197');\n",
              "          const dataTable =\n",
              "            await google.colab.kernel.invokeFunction('convertToInteractive',\n",
              "                                                     [key], {});\n",
              "          if (!dataTable) return;\n",
              "\n",
              "          const docLinkHtml = 'Like what you see? Visit the ' +\n",
              "            '<a target=\"_blank\" href=https://colab.research.google.com/notebooks/data_table.ipynb>data table notebook</a>'\n",
              "            + ' to learn more about interactive tables.';\n",
              "          element.innerHTML = '';\n",
              "          dataTable['output_type'] = 'display_data';\n",
              "          await google.colab.output.renderOutput(dataTable, element);\n",
              "          const docLink = document.createElement('div');\n",
              "          docLink.innerHTML = docLinkHtml;\n",
              "          element.appendChild(docLink);\n",
              "        }\n",
              "      </script>\n",
              "    </div>\n",
              "  </div>\n",
              "  "
            ]
          },
          "metadata": {},
          "execution_count": 87
        }
      ]
    },
    {
      "cell_type": "code",
      "source": [
        "dataset.tail()"
      ],
      "metadata": {
        "colab": {
          "base_uri": "https://localhost:8080/",
          "height": 206
        },
        "id": "waqqZ4V6IYJ0",
        "outputId": "08813704-fdb6-4b66-8caa-bfbc04c9d508"
      },
      "execution_count": 88,
      "outputs": [
        {
          "output_type": "execute_result",
          "data": {
            "text/plain": [
              "      Temp  V(10mA)  V(10.5mA)  V(11mA)  V(11.5mA)  V(12mA)  V(12.5mA)  \\\n",
              "449  28.52     4.63       5.16     5.83       6.79     6.94       7.92   \n",
              "450  28.46     5.11       6.14     6.61       7.83     8.22       8.78   \n",
              "451  28.91     4.50       6.35     6.47       6.90     7.02       7.98   \n",
              "452  29.69     4.55       5.06     5.26       5.53     6.93       7.53   \n",
              "453  28.49     4.42       4.65     6.10       6.84     6.88       7.27   \n",
              "\n",
              "     V(13mA)  V(13.5mA)  V(14mA)  V(14.5mA)  Slinity_Class  \n",
              "449     8.33       9.83    10.83      11.05              4  \n",
              "450     9.00       9.69     9.99      10.16              4  \n",
              "451     8.08       8.62     9.12      10.70              4  \n",
              "452     8.78       8.86     9.29      10.81              4  \n",
              "453     8.41       9.34    10.17      10.98              4  "
            ],
            "text/html": [
              "\n",
              "  <div id=\"df-f55733fd-a3c5-40a2-ab6a-90f17e930646\">\n",
              "    <div class=\"colab-df-container\">\n",
              "      <div>\n",
              "<style scoped>\n",
              "    .dataframe tbody tr th:only-of-type {\n",
              "        vertical-align: middle;\n",
              "    }\n",
              "\n",
              "    .dataframe tbody tr th {\n",
              "        vertical-align: top;\n",
              "    }\n",
              "\n",
              "    .dataframe thead th {\n",
              "        text-align: right;\n",
              "    }\n",
              "</style>\n",
              "<table border=\"1\" class=\"dataframe\">\n",
              "  <thead>\n",
              "    <tr style=\"text-align: right;\">\n",
              "      <th></th>\n",
              "      <th>Temp</th>\n",
              "      <th>V(10mA)</th>\n",
              "      <th>V(10.5mA)</th>\n",
              "      <th>V(11mA)</th>\n",
              "      <th>V(11.5mA)</th>\n",
              "      <th>V(12mA)</th>\n",
              "      <th>V(12.5mA)</th>\n",
              "      <th>V(13mA)</th>\n",
              "      <th>V(13.5mA)</th>\n",
              "      <th>V(14mA)</th>\n",
              "      <th>V(14.5mA)</th>\n",
              "      <th>Slinity_Class</th>\n",
              "    </tr>\n",
              "  </thead>\n",
              "  <tbody>\n",
              "    <tr>\n",
              "      <th>449</th>\n",
              "      <td>28.52</td>\n",
              "      <td>4.63</td>\n",
              "      <td>5.16</td>\n",
              "      <td>5.83</td>\n",
              "      <td>6.79</td>\n",
              "      <td>6.94</td>\n",
              "      <td>7.92</td>\n",
              "      <td>8.33</td>\n",
              "      <td>9.83</td>\n",
              "      <td>10.83</td>\n",
              "      <td>11.05</td>\n",
              "      <td>4</td>\n",
              "    </tr>\n",
              "    <tr>\n",
              "      <th>450</th>\n",
              "      <td>28.46</td>\n",
              "      <td>5.11</td>\n",
              "      <td>6.14</td>\n",
              "      <td>6.61</td>\n",
              "      <td>7.83</td>\n",
              "      <td>8.22</td>\n",
              "      <td>8.78</td>\n",
              "      <td>9.00</td>\n",
              "      <td>9.69</td>\n",
              "      <td>9.99</td>\n",
              "      <td>10.16</td>\n",
              "      <td>4</td>\n",
              "    </tr>\n",
              "    <tr>\n",
              "      <th>451</th>\n",
              "      <td>28.91</td>\n",
              "      <td>4.50</td>\n",
              "      <td>6.35</td>\n",
              "      <td>6.47</td>\n",
              "      <td>6.90</td>\n",
              "      <td>7.02</td>\n",
              "      <td>7.98</td>\n",
              "      <td>8.08</td>\n",
              "      <td>8.62</td>\n",
              "      <td>9.12</td>\n",
              "      <td>10.70</td>\n",
              "      <td>4</td>\n",
              "    </tr>\n",
              "    <tr>\n",
              "      <th>452</th>\n",
              "      <td>29.69</td>\n",
              "      <td>4.55</td>\n",
              "      <td>5.06</td>\n",
              "      <td>5.26</td>\n",
              "      <td>5.53</td>\n",
              "      <td>6.93</td>\n",
              "      <td>7.53</td>\n",
              "      <td>8.78</td>\n",
              "      <td>8.86</td>\n",
              "      <td>9.29</td>\n",
              "      <td>10.81</td>\n",
              "      <td>4</td>\n",
              "    </tr>\n",
              "    <tr>\n",
              "      <th>453</th>\n",
              "      <td>28.49</td>\n",
              "      <td>4.42</td>\n",
              "      <td>4.65</td>\n",
              "      <td>6.10</td>\n",
              "      <td>6.84</td>\n",
              "      <td>6.88</td>\n",
              "      <td>7.27</td>\n",
              "      <td>8.41</td>\n",
              "      <td>9.34</td>\n",
              "      <td>10.17</td>\n",
              "      <td>10.98</td>\n",
              "      <td>4</td>\n",
              "    </tr>\n",
              "  </tbody>\n",
              "</table>\n",
              "</div>\n",
              "      <button class=\"colab-df-convert\" onclick=\"convertToInteractive('df-f55733fd-a3c5-40a2-ab6a-90f17e930646')\"\n",
              "              title=\"Convert this dataframe to an interactive table.\"\n",
              "              style=\"display:none;\">\n",
              "        \n",
              "  <svg xmlns=\"http://www.w3.org/2000/svg\" height=\"24px\"viewBox=\"0 0 24 24\"\n",
              "       width=\"24px\">\n",
              "    <path d=\"M0 0h24v24H0V0z\" fill=\"none\"/>\n",
              "    <path d=\"M18.56 5.44l.94 2.06.94-2.06 2.06-.94-2.06-.94-.94-2.06-.94 2.06-2.06.94zm-11 1L8.5 8.5l.94-2.06 2.06-.94-2.06-.94L8.5 2.5l-.94 2.06-2.06.94zm10 10l.94 2.06.94-2.06 2.06-.94-2.06-.94-.94-2.06-.94 2.06-2.06.94z\"/><path d=\"M17.41 7.96l-1.37-1.37c-.4-.4-.92-.59-1.43-.59-.52 0-1.04.2-1.43.59L10.3 9.45l-7.72 7.72c-.78.78-.78 2.05 0 2.83L4 21.41c.39.39.9.59 1.41.59.51 0 1.02-.2 1.41-.59l7.78-7.78 2.81-2.81c.8-.78.8-2.07 0-2.86zM5.41 20L4 18.59l7.72-7.72 1.47 1.35L5.41 20z\"/>\n",
              "  </svg>\n",
              "      </button>\n",
              "      \n",
              "  <style>\n",
              "    .colab-df-container {\n",
              "      display:flex;\n",
              "      flex-wrap:wrap;\n",
              "      gap: 12px;\n",
              "    }\n",
              "\n",
              "    .colab-df-convert {\n",
              "      background-color: #E8F0FE;\n",
              "      border: none;\n",
              "      border-radius: 50%;\n",
              "      cursor: pointer;\n",
              "      display: none;\n",
              "      fill: #1967D2;\n",
              "      height: 32px;\n",
              "      padding: 0 0 0 0;\n",
              "      width: 32px;\n",
              "    }\n",
              "\n",
              "    .colab-df-convert:hover {\n",
              "      background-color: #E2EBFA;\n",
              "      box-shadow: 0px 1px 2px rgba(60, 64, 67, 0.3), 0px 1px 3px 1px rgba(60, 64, 67, 0.15);\n",
              "      fill: #174EA6;\n",
              "    }\n",
              "\n",
              "    [theme=dark] .colab-df-convert {\n",
              "      background-color: #3B4455;\n",
              "      fill: #D2E3FC;\n",
              "    }\n",
              "\n",
              "    [theme=dark] .colab-df-convert:hover {\n",
              "      background-color: #434B5C;\n",
              "      box-shadow: 0px 1px 3px 1px rgba(0, 0, 0, 0.15);\n",
              "      filter: drop-shadow(0px 1px 2px rgba(0, 0, 0, 0.3));\n",
              "      fill: #FFFFFF;\n",
              "    }\n",
              "  </style>\n",
              "\n",
              "      <script>\n",
              "        const buttonEl =\n",
              "          document.querySelector('#df-f55733fd-a3c5-40a2-ab6a-90f17e930646 button.colab-df-convert');\n",
              "        buttonEl.style.display =\n",
              "          google.colab.kernel.accessAllowed ? 'block' : 'none';\n",
              "\n",
              "        async function convertToInteractive(key) {\n",
              "          const element = document.querySelector('#df-f55733fd-a3c5-40a2-ab6a-90f17e930646');\n",
              "          const dataTable =\n",
              "            await google.colab.kernel.invokeFunction('convertToInteractive',\n",
              "                                                     [key], {});\n",
              "          if (!dataTable) return;\n",
              "\n",
              "          const docLinkHtml = 'Like what you see? Visit the ' +\n",
              "            '<a target=\"_blank\" href=https://colab.research.google.com/notebooks/data_table.ipynb>data table notebook</a>'\n",
              "            + ' to learn more about interactive tables.';\n",
              "          element.innerHTML = '';\n",
              "          dataTable['output_type'] = 'display_data';\n",
              "          await google.colab.output.renderOutput(dataTable, element);\n",
              "          const docLink = document.createElement('div');\n",
              "          docLink.innerHTML = docLinkHtml;\n",
              "          element.appendChild(docLink);\n",
              "        }\n",
              "      </script>\n",
              "    </div>\n",
              "  </div>\n",
              "  "
            ]
          },
          "metadata": {},
          "execution_count": 88
        }
      ]
    },
    {
      "cell_type": "code",
      "source": [
        "X = dataset.drop(columns='Slinity_Class',  axis=1)\n",
        "Y = dataset['Slinity_Class']\n",
        "print(X)\n",
        "print(Y)"
      ],
      "metadata": {
        "colab": {
          "base_uri": "https://localhost:8080/"
        },
        "id": "m2zRe_IYIlA8",
        "outputId": "f211e430-6f94-4797-bed7-4141bdd8898c"
      },
      "execution_count": 89,
      "outputs": [
        {
          "output_type": "stream",
          "name": "stdout",
          "text": [
            "      Temp  V(10mA)  V(10.5mA)  V(11mA)  V(11.5mA)  V(12mA)  V(12.5mA)  \\\n",
            "0    29.25     7.70       8.02     8.37       8.66     9.08       9.44   \n",
            "1    29.25     8.80       9.65    10.01      10.11    10.25      10.72   \n",
            "2    29.13     8.59       9.01     9.37       9.72    10.15      10.54   \n",
            "3    28.94     6.88       7.10     7.42       7.45     8.09       8.34   \n",
            "4    29.13     6.92       7.27     7.42       7.81     8.16       8.45   \n",
            "..     ...      ...        ...      ...        ...      ...        ...   \n",
            "449  28.52     4.63       5.16     5.83       6.79     6.94       7.92   \n",
            "450  28.46     5.11       6.14     6.61       7.83     8.22       8.78   \n",
            "451  28.91     4.50       6.35     6.47       6.90     7.02       7.98   \n",
            "452  29.69     4.55       5.06     5.26       5.53     6.93       7.53   \n",
            "453  28.49     4.42       4.65     6.10       6.84     6.88       7.27   \n",
            "\n",
            "     V(13mA)  V(13.5mA)  V(14mA)  V(14.5mA)  \n",
            "0       9.83      10.04    10.40      10.57  \n",
            "1      11.07      11.43    11.85      12.35  \n",
            "2      10.89      11.25    11.60      12.03  \n",
            "3       8.69       9.01     9.30       9.55  \n",
            "4       8.76       9.01     9.26       9.69  \n",
            "..       ...        ...      ...        ...  \n",
            "449     8.33       9.83    10.83      11.05  \n",
            "450     9.00       9.69     9.99      10.16  \n",
            "451     8.08       8.62     9.12      10.70  \n",
            "452     8.78       8.86     9.29      10.81  \n",
            "453     8.41       9.34    10.17      10.98  \n",
            "\n",
            "[454 rows x 11 columns]\n",
            "0      1\n",
            "1      1\n",
            "2      1\n",
            "3      1\n",
            "4      1\n",
            "      ..\n",
            "449    4\n",
            "450    4\n",
            "451    4\n",
            "452    4\n",
            "453    4\n",
            "Name: Slinity_Class, Length: 454, dtype: int64\n"
          ]
        }
      ]
    },
    {
      "cell_type": "code",
      "source": [
        "df=pd.DataFrame(dataset, columns = ['Temp', 'V(10mA)',\t'V(10.5mA)',\t'V(11mA)',\t'V(11.5mA)',\t'V(12mA)',\t'V(12.5mA)',\t'V(13mA)',\t'V(13.5mA)',\t'V(14mA)',\t'V(14.5mA)',\t'Slinity_Class'])"
      ],
      "metadata": {
        "id": "Oz_u3s16vOA1"
      },
      "execution_count": 90,
      "outputs": []
    },
    {
      "cell_type": "code",
      "source": [
        "arr = df.to_numpy()\n",
        "df"
      ],
      "metadata": {
        "colab": {
          "base_uri": "https://localhost:8080/",
          "height": 424
        },
        "id": "EB-igpU0xAon",
        "outputId": "a04bd619-0830-43b7-b641-f34bca27a1f4"
      },
      "execution_count": 91,
      "outputs": [
        {
          "output_type": "execute_result",
          "data": {
            "text/plain": [
              "      Temp  V(10mA)  V(10.5mA)  V(11mA)  V(11.5mA)  V(12mA)  V(12.5mA)  \\\n",
              "0    29.25     7.70       8.02     8.37       8.66     9.08       9.44   \n",
              "1    29.25     8.80       9.65    10.01      10.11    10.25      10.72   \n",
              "2    29.13     8.59       9.01     9.37       9.72    10.15      10.54   \n",
              "3    28.94     6.88       7.10     7.42       7.45     8.09       8.34   \n",
              "4    29.13     6.92       7.27     7.42       7.81     8.16       8.45   \n",
              "..     ...      ...        ...      ...        ...      ...        ...   \n",
              "449  28.52     4.63       5.16     5.83       6.79     6.94       7.92   \n",
              "450  28.46     5.11       6.14     6.61       7.83     8.22       8.78   \n",
              "451  28.91     4.50       6.35     6.47       6.90     7.02       7.98   \n",
              "452  29.69     4.55       5.06     5.26       5.53     6.93       7.53   \n",
              "453  28.49     4.42       4.65     6.10       6.84     6.88       7.27   \n",
              "\n",
              "     V(13mA)  V(13.5mA)  V(14mA)  V(14.5mA)  Slinity_Class  \n",
              "0       9.83      10.04    10.40      10.57              1  \n",
              "1      11.07      11.43    11.85      12.35              1  \n",
              "2      10.89      11.25    11.60      12.03              1  \n",
              "3       8.69       9.01     9.30       9.55              1  \n",
              "4       8.76       9.01     9.26       9.69              1  \n",
              "..       ...        ...      ...        ...            ...  \n",
              "449     8.33       9.83    10.83      11.05              4  \n",
              "450     9.00       9.69     9.99      10.16              4  \n",
              "451     8.08       8.62     9.12      10.70              4  \n",
              "452     8.78       8.86     9.29      10.81              4  \n",
              "453     8.41       9.34    10.17      10.98              4  \n",
              "\n",
              "[454 rows x 12 columns]"
            ],
            "text/html": [
              "\n",
              "  <div id=\"df-8613f248-2960-4975-a8d2-234b3ce2ec04\">\n",
              "    <div class=\"colab-df-container\">\n",
              "      <div>\n",
              "<style scoped>\n",
              "    .dataframe tbody tr th:only-of-type {\n",
              "        vertical-align: middle;\n",
              "    }\n",
              "\n",
              "    .dataframe tbody tr th {\n",
              "        vertical-align: top;\n",
              "    }\n",
              "\n",
              "    .dataframe thead th {\n",
              "        text-align: right;\n",
              "    }\n",
              "</style>\n",
              "<table border=\"1\" class=\"dataframe\">\n",
              "  <thead>\n",
              "    <tr style=\"text-align: right;\">\n",
              "      <th></th>\n",
              "      <th>Temp</th>\n",
              "      <th>V(10mA)</th>\n",
              "      <th>V(10.5mA)</th>\n",
              "      <th>V(11mA)</th>\n",
              "      <th>V(11.5mA)</th>\n",
              "      <th>V(12mA)</th>\n",
              "      <th>V(12.5mA)</th>\n",
              "      <th>V(13mA)</th>\n",
              "      <th>V(13.5mA)</th>\n",
              "      <th>V(14mA)</th>\n",
              "      <th>V(14.5mA)</th>\n",
              "      <th>Slinity_Class</th>\n",
              "    </tr>\n",
              "  </thead>\n",
              "  <tbody>\n",
              "    <tr>\n",
              "      <th>0</th>\n",
              "      <td>29.25</td>\n",
              "      <td>7.70</td>\n",
              "      <td>8.02</td>\n",
              "      <td>8.37</td>\n",
              "      <td>8.66</td>\n",
              "      <td>9.08</td>\n",
              "      <td>9.44</td>\n",
              "      <td>9.83</td>\n",
              "      <td>10.04</td>\n",
              "      <td>10.40</td>\n",
              "      <td>10.57</td>\n",
              "      <td>1</td>\n",
              "    </tr>\n",
              "    <tr>\n",
              "      <th>1</th>\n",
              "      <td>29.25</td>\n",
              "      <td>8.80</td>\n",
              "      <td>9.65</td>\n",
              "      <td>10.01</td>\n",
              "      <td>10.11</td>\n",
              "      <td>10.25</td>\n",
              "      <td>10.72</td>\n",
              "      <td>11.07</td>\n",
              "      <td>11.43</td>\n",
              "      <td>11.85</td>\n",
              "      <td>12.35</td>\n",
              "      <td>1</td>\n",
              "    </tr>\n",
              "    <tr>\n",
              "      <th>2</th>\n",
              "      <td>29.13</td>\n",
              "      <td>8.59</td>\n",
              "      <td>9.01</td>\n",
              "      <td>9.37</td>\n",
              "      <td>9.72</td>\n",
              "      <td>10.15</td>\n",
              "      <td>10.54</td>\n",
              "      <td>10.89</td>\n",
              "      <td>11.25</td>\n",
              "      <td>11.60</td>\n",
              "      <td>12.03</td>\n",
              "      <td>1</td>\n",
              "    </tr>\n",
              "    <tr>\n",
              "      <th>3</th>\n",
              "      <td>28.94</td>\n",
              "      <td>6.88</td>\n",
              "      <td>7.10</td>\n",
              "      <td>7.42</td>\n",
              "      <td>7.45</td>\n",
              "      <td>8.09</td>\n",
              "      <td>8.34</td>\n",
              "      <td>8.69</td>\n",
              "      <td>9.01</td>\n",
              "      <td>9.30</td>\n",
              "      <td>9.55</td>\n",
              "      <td>1</td>\n",
              "    </tr>\n",
              "    <tr>\n",
              "      <th>4</th>\n",
              "      <td>29.13</td>\n",
              "      <td>6.92</td>\n",
              "      <td>7.27</td>\n",
              "      <td>7.42</td>\n",
              "      <td>7.81</td>\n",
              "      <td>8.16</td>\n",
              "      <td>8.45</td>\n",
              "      <td>8.76</td>\n",
              "      <td>9.01</td>\n",
              "      <td>9.26</td>\n",
              "      <td>9.69</td>\n",
              "      <td>1</td>\n",
              "    </tr>\n",
              "    <tr>\n",
              "      <th>...</th>\n",
              "      <td>...</td>\n",
              "      <td>...</td>\n",
              "      <td>...</td>\n",
              "      <td>...</td>\n",
              "      <td>...</td>\n",
              "      <td>...</td>\n",
              "      <td>...</td>\n",
              "      <td>...</td>\n",
              "      <td>...</td>\n",
              "      <td>...</td>\n",
              "      <td>...</td>\n",
              "      <td>...</td>\n",
              "    </tr>\n",
              "    <tr>\n",
              "      <th>449</th>\n",
              "      <td>28.52</td>\n",
              "      <td>4.63</td>\n",
              "      <td>5.16</td>\n",
              "      <td>5.83</td>\n",
              "      <td>6.79</td>\n",
              "      <td>6.94</td>\n",
              "      <td>7.92</td>\n",
              "      <td>8.33</td>\n",
              "      <td>9.83</td>\n",
              "      <td>10.83</td>\n",
              "      <td>11.05</td>\n",
              "      <td>4</td>\n",
              "    </tr>\n",
              "    <tr>\n",
              "      <th>450</th>\n",
              "      <td>28.46</td>\n",
              "      <td>5.11</td>\n",
              "      <td>6.14</td>\n",
              "      <td>6.61</td>\n",
              "      <td>7.83</td>\n",
              "      <td>8.22</td>\n",
              "      <td>8.78</td>\n",
              "      <td>9.00</td>\n",
              "      <td>9.69</td>\n",
              "      <td>9.99</td>\n",
              "      <td>10.16</td>\n",
              "      <td>4</td>\n",
              "    </tr>\n",
              "    <tr>\n",
              "      <th>451</th>\n",
              "      <td>28.91</td>\n",
              "      <td>4.50</td>\n",
              "      <td>6.35</td>\n",
              "      <td>6.47</td>\n",
              "      <td>6.90</td>\n",
              "      <td>7.02</td>\n",
              "      <td>7.98</td>\n",
              "      <td>8.08</td>\n",
              "      <td>8.62</td>\n",
              "      <td>9.12</td>\n",
              "      <td>10.70</td>\n",
              "      <td>4</td>\n",
              "    </tr>\n",
              "    <tr>\n",
              "      <th>452</th>\n",
              "      <td>29.69</td>\n",
              "      <td>4.55</td>\n",
              "      <td>5.06</td>\n",
              "      <td>5.26</td>\n",
              "      <td>5.53</td>\n",
              "      <td>6.93</td>\n",
              "      <td>7.53</td>\n",
              "      <td>8.78</td>\n",
              "      <td>8.86</td>\n",
              "      <td>9.29</td>\n",
              "      <td>10.81</td>\n",
              "      <td>4</td>\n",
              "    </tr>\n",
              "    <tr>\n",
              "      <th>453</th>\n",
              "      <td>28.49</td>\n",
              "      <td>4.42</td>\n",
              "      <td>4.65</td>\n",
              "      <td>6.10</td>\n",
              "      <td>6.84</td>\n",
              "      <td>6.88</td>\n",
              "      <td>7.27</td>\n",
              "      <td>8.41</td>\n",
              "      <td>9.34</td>\n",
              "      <td>10.17</td>\n",
              "      <td>10.98</td>\n",
              "      <td>4</td>\n",
              "    </tr>\n",
              "  </tbody>\n",
              "</table>\n",
              "<p>454 rows × 12 columns</p>\n",
              "</div>\n",
              "      <button class=\"colab-df-convert\" onclick=\"convertToInteractive('df-8613f248-2960-4975-a8d2-234b3ce2ec04')\"\n",
              "              title=\"Convert this dataframe to an interactive table.\"\n",
              "              style=\"display:none;\">\n",
              "        \n",
              "  <svg xmlns=\"http://www.w3.org/2000/svg\" height=\"24px\"viewBox=\"0 0 24 24\"\n",
              "       width=\"24px\">\n",
              "    <path d=\"M0 0h24v24H0V0z\" fill=\"none\"/>\n",
              "    <path d=\"M18.56 5.44l.94 2.06.94-2.06 2.06-.94-2.06-.94-.94-2.06-.94 2.06-2.06.94zm-11 1L8.5 8.5l.94-2.06 2.06-.94-2.06-.94L8.5 2.5l-.94 2.06-2.06.94zm10 10l.94 2.06.94-2.06 2.06-.94-2.06-.94-.94-2.06-.94 2.06-2.06.94z\"/><path d=\"M17.41 7.96l-1.37-1.37c-.4-.4-.92-.59-1.43-.59-.52 0-1.04.2-1.43.59L10.3 9.45l-7.72 7.72c-.78.78-.78 2.05 0 2.83L4 21.41c.39.39.9.59 1.41.59.51 0 1.02-.2 1.41-.59l7.78-7.78 2.81-2.81c.8-.78.8-2.07 0-2.86zM5.41 20L4 18.59l7.72-7.72 1.47 1.35L5.41 20z\"/>\n",
              "  </svg>\n",
              "      </button>\n",
              "      \n",
              "  <style>\n",
              "    .colab-df-container {\n",
              "      display:flex;\n",
              "      flex-wrap:wrap;\n",
              "      gap: 12px;\n",
              "    }\n",
              "\n",
              "    .colab-df-convert {\n",
              "      background-color: #E8F0FE;\n",
              "      border: none;\n",
              "      border-radius: 50%;\n",
              "      cursor: pointer;\n",
              "      display: none;\n",
              "      fill: #1967D2;\n",
              "      height: 32px;\n",
              "      padding: 0 0 0 0;\n",
              "      width: 32px;\n",
              "    }\n",
              "\n",
              "    .colab-df-convert:hover {\n",
              "      background-color: #E2EBFA;\n",
              "      box-shadow: 0px 1px 2px rgba(60, 64, 67, 0.3), 0px 1px 3px 1px rgba(60, 64, 67, 0.15);\n",
              "      fill: #174EA6;\n",
              "    }\n",
              "\n",
              "    [theme=dark] .colab-df-convert {\n",
              "      background-color: #3B4455;\n",
              "      fill: #D2E3FC;\n",
              "    }\n",
              "\n",
              "    [theme=dark] .colab-df-convert:hover {\n",
              "      background-color: #434B5C;\n",
              "      box-shadow: 0px 1px 3px 1px rgba(0, 0, 0, 0.15);\n",
              "      filter: drop-shadow(0px 1px 2px rgba(0, 0, 0, 0.3));\n",
              "      fill: #FFFFFF;\n",
              "    }\n",
              "  </style>\n",
              "\n",
              "      <script>\n",
              "        const buttonEl =\n",
              "          document.querySelector('#df-8613f248-2960-4975-a8d2-234b3ce2ec04 button.colab-df-convert');\n",
              "        buttonEl.style.display =\n",
              "          google.colab.kernel.accessAllowed ? 'block' : 'none';\n",
              "\n",
              "        async function convertToInteractive(key) {\n",
              "          const element = document.querySelector('#df-8613f248-2960-4975-a8d2-234b3ce2ec04');\n",
              "          const dataTable =\n",
              "            await google.colab.kernel.invokeFunction('convertToInteractive',\n",
              "                                                     [key], {});\n",
              "          if (!dataTable) return;\n",
              "\n",
              "          const docLinkHtml = 'Like what you see? Visit the ' +\n",
              "            '<a target=\"_blank\" href=https://colab.research.google.com/notebooks/data_table.ipynb>data table notebook</a>'\n",
              "            + ' to learn more about interactive tables.';\n",
              "          element.innerHTML = '';\n",
              "          dataTable['output_type'] = 'display_data';\n",
              "          await google.colab.output.renderOutput(dataTable, element);\n",
              "          const docLink = document.createElement('div');\n",
              "          docLink.innerHTML = docLinkHtml;\n",
              "          element.appendChild(docLink);\n",
              "        }\n",
              "      </script>\n",
              "    </div>\n",
              "  </div>\n",
              "  "
            ]
          },
          "metadata": {},
          "execution_count": 91
        }
      ]
    },
    {
      "cell_type": "code",
      "source": [
        "X= np.asarray(X).astype('float32')\n",
        "Y= np.asarray(Y).astype('float32')"
      ],
      "metadata": {
        "id": "Cia7WBavfMKS"
      },
      "execution_count": 92,
      "outputs": []
    },
    {
      "cell_type": "code",
      "source": [
        "X_train, X_test, Y_train, Y_test = train_test_split(X, Y, test_size = 0.1, stratify = Y, random_state = 4)"
      ],
      "metadata": {
        "id": "wQKp_l29J5oa"
      },
      "execution_count": 114,
      "outputs": []
    },
    {
      "cell_type": "code",
      "source": [
        "print(X.shape, X_test.shape, X_train.shape)"
      ],
      "metadata": {
        "colab": {
          "base_uri": "https://localhost:8080/"
        },
        "id": "X_8HuaY4xerU",
        "outputId": "cacbb675-a7bc-45d0-e6fa-7bf1aa6166a9"
      },
      "execution_count": 115,
      "outputs": [
        {
          "output_type": "stream",
          "name": "stdout",
          "text": [
            "(454, 11) (46, 11) (408, 11)\n"
          ]
        }
      ]
    },
    {
      "cell_type": "code",
      "source": [
        "print(X_train[1])"
      ],
      "metadata": {
        "colab": {
          "base_uri": "https://localhost:8080/"
        },
        "id": "26YiccaGKDsD",
        "outputId": "2fc877f1-83a3-4d5f-ac23-bb4dd1e41f0d"
      },
      "execution_count": 116,
      "outputs": [
        {
          "output_type": "stream",
          "name": "stdout",
          "text": [
            "[28.89  4.95  5.87  6.    7.37  7.7   8.4   9.52  9.58 11.58 12.24]\n"
          ]
        }
      ]
    },
    {
      "cell_type": "code",
      "source": [
        "print(Y_train[1])"
      ],
      "metadata": {
        "colab": {
          "base_uri": "https://localhost:8080/"
        },
        "id": "KYkpG04qxbq8",
        "outputId": "36134841-b5d5-4d29-bc23-673cdf239797"
      },
      "execution_count": 117,
      "outputs": [
        {
          "output_type": "stream",
          "name": "stdout",
          "text": [
            "3.0\n"
          ]
        }
      ]
    },
    {
      "cell_type": "code",
      "source": [
        "print(X_train.shape)"
      ],
      "metadata": {
        "colab": {
          "base_uri": "https://localhost:8080/"
        },
        "id": "MzZInkE6dEwU",
        "outputId": "61e89f53-e112-4ef9-9418-8641db8e3d9d"
      },
      "execution_count": 118,
      "outputs": [
        {
          "output_type": "stream",
          "name": "stdout",
          "text": [
            "(408, 11)\n"
          ]
        }
      ]
    },
    {
      "cell_type": "code",
      "source": [
        "#ddevide by maximum number\n",
        "\n",
        "X_train = X_train/30\n",
        "X_test = X_test/30"
      ],
      "metadata": {
        "id": "KIEAI-DzKIaK"
      },
      "execution_count": 119,
      "outputs": []
    },
    {
      "cell_type": "code",
      "source": [
        "X_train[1]"
      ],
      "metadata": {
        "colab": {
          "base_uri": "https://localhost:8080/"
        },
        "id": "JoJuUZme044n",
        "outputId": "06c4a25d-d41c-474b-b653-49feebdca22e"
      },
      "execution_count": 120,
      "outputs": [
        {
          "output_type": "execute_result",
          "data": {
            "text/plain": [
              "array([0.963     , 0.16499999, 0.19566666, 0.2       , 0.24566667,\n",
              "       0.25666666, 0.28      , 0.31733334, 0.31933334, 0.386     ,\n",
              "       0.408     ], dtype=float32)"
            ]
          },
          "metadata": {},
          "execution_count": 120
        }
      ]
    },
    {
      "cell_type": "code",
      "source": [
        "X_test[0]"
      ],
      "metadata": {
        "colab": {
          "base_uri": "https://localhost:8080/"
        },
        "id": "cVa_2rQwJxet",
        "outputId": "dbf52af9-9691-4993-9e4d-613fa752b130"
      },
      "execution_count": 129,
      "outputs": [
        {
          "output_type": "execute_result",
          "data": {
            "text/plain": [
              "array([1.0103333 , 0.28266665, 0.29466668, 0.31166667, 0.31866667,\n",
              "       0.31933334, 0.395     , 0.407     , 0.42833334, 0.44266665,\n",
              "       0.46266666], dtype=float32)"
            ]
          },
          "metadata": {},
          "execution_count": 129
        }
      ]
    },
    {
      "cell_type": "code",
      "source": [
        "Y_test[0]"
      ],
      "metadata": {
        "colab": {
          "base_uri": "https://localhost:8080/"
        },
        "id": "naVsAAUKKKpa",
        "outputId": "a179e2fa-7be7-49e7-f2c6-6ea828a16247"
      },
      "execution_count": 130,
      "outputs": [
        {
          "output_type": "execute_result",
          "data": {
            "text/plain": [
              "2.0"
            ]
          },
          "metadata": {},
          "execution_count": 130
        }
      ]
    },
    {
      "cell_type": "code",
      "source": [
        "\n",
        "model = keras.Sequential([\n",
        "    keras.layers.Dense(10, input_shape = (11,), activation = 'relu'),\n",
        "    keras.layers.Dense(10, input_shape = (10,), activation = 'relu'),\n",
        "    keras.layers.Dense(4, activation = 'sigmoid')\n",
        "])\n",
        "model.compile(\n",
        "    optimizer='adam',\n",
        "    loss='KLDivergence',\n",
        "    metrics=['accuracy']\n",
        ")\n",
        "\n",
        "model.fit(X_train, Y_train, epochs=60)"
      ],
      "metadata": {
        "colab": {
          "base_uri": "https://localhost:8080/"
        },
        "id": "ZbQgqE53ib7u",
        "outputId": "4fd2d1ff-aaa4-40b7-db7f-3492b7228b2b"
      },
      "execution_count": 131,
      "outputs": [
        {
          "output_type": "stream",
          "name": "stdout",
          "text": [
            "Epoch 1/60\n",
            "13/13 [==============================] - 0s 2ms/step - loss: 2.6368 - accuracy: 0.2475\n",
            "Epoch 2/60\n",
            "13/13 [==============================] - 0s 2ms/step - loss: 2.5159 - accuracy: 0.2475\n",
            "Epoch 3/60\n",
            "13/13 [==============================] - 0s 2ms/step - loss: 2.3858 - accuracy: 0.2475\n",
            "Epoch 4/60\n",
            "13/13 [==============================] - 0s 2ms/step - loss: 2.2460 - accuracy: 0.2475\n",
            "Epoch 5/60\n",
            "13/13 [==============================] - 0s 2ms/step - loss: 2.0935 - accuracy: 0.2475\n",
            "Epoch 6/60\n",
            "13/13 [==============================] - 0s 2ms/step - loss: 1.9232 - accuracy: 0.2475\n",
            "Epoch 7/60\n",
            "13/13 [==============================] - 0s 2ms/step - loss: 1.7424 - accuracy: 0.2475\n",
            "Epoch 8/60\n",
            "13/13 [==============================] - 0s 2ms/step - loss: 1.5429 - accuracy: 0.2475\n",
            "Epoch 9/60\n",
            "13/13 [==============================] - 0s 3ms/step - loss: 1.3469 - accuracy: 0.2475\n",
            "Epoch 10/60\n",
            "13/13 [==============================] - 0s 2ms/step - loss: 1.1603 - accuracy: 0.2475\n",
            "Epoch 11/60\n",
            "13/13 [==============================] - 0s 2ms/step - loss: 0.9772 - accuracy: 0.2475\n",
            "Epoch 12/60\n",
            "13/13 [==============================] - 0s 2ms/step - loss: 0.7868 - accuracy: 0.2475\n",
            "Epoch 13/60\n",
            "13/13 [==============================] - 0s 2ms/step - loss: 0.6087 - accuracy: 0.2475\n",
            "Epoch 14/60\n",
            "13/13 [==============================] - 0s 2ms/step - loss: 0.4594 - accuracy: 0.2475\n",
            "Epoch 15/60\n",
            "13/13 [==============================] - 0s 2ms/step - loss: 0.3433 - accuracy: 0.2475\n",
            "Epoch 16/60\n",
            "13/13 [==============================] - 0s 2ms/step - loss: 0.2576 - accuracy: 0.2475\n",
            "Epoch 17/60\n",
            "13/13 [==============================] - 0s 2ms/step - loss: 0.1960 - accuracy: 0.2475\n",
            "Epoch 18/60\n",
            "13/13 [==============================] - 0s 2ms/step - loss: 0.1522 - accuracy: 0.2475\n",
            "Epoch 19/60\n",
            "13/13 [==============================] - 0s 2ms/step - loss: 0.1205 - accuracy: 0.2475\n",
            "Epoch 20/60\n",
            "13/13 [==============================] - 0s 2ms/step - loss: 0.0974 - accuracy: 0.2475\n",
            "Epoch 21/60\n",
            "13/13 [==============================] - 0s 2ms/step - loss: 0.0802 - accuracy: 0.2475\n",
            "Epoch 22/60\n",
            "13/13 [==============================] - 0s 2ms/step - loss: 0.0671 - accuracy: 0.2475\n",
            "Epoch 23/60\n",
            "13/13 [==============================] - 0s 2ms/step - loss: 0.0569 - accuracy: 0.2475\n",
            "Epoch 24/60\n",
            "13/13 [==============================] - 0s 2ms/step - loss: 0.0489 - accuracy: 0.2475\n",
            "Epoch 25/60\n",
            "13/13 [==============================] - 0s 3ms/step - loss: 0.0425 - accuracy: 0.2475\n",
            "Epoch 26/60\n",
            "13/13 [==============================] - 0s 2ms/step - loss: 0.0372 - accuracy: 0.2475\n",
            "Epoch 27/60\n",
            "13/13 [==============================] - 0s 2ms/step - loss: 0.0329 - accuracy: 0.2475\n",
            "Epoch 28/60\n",
            "13/13 [==============================] - 0s 2ms/step - loss: 0.0293 - accuracy: 0.2475\n",
            "Epoch 29/60\n",
            "13/13 [==============================] - 0s 2ms/step - loss: 0.0262 - accuracy: 0.2475\n",
            "Epoch 30/60\n",
            "13/13 [==============================] - 0s 2ms/step - loss: 0.0237 - accuracy: 0.2475\n",
            "Epoch 31/60\n",
            "13/13 [==============================] - 0s 2ms/step - loss: 0.0214 - accuracy: 0.2475\n",
            "Epoch 32/60\n",
            "13/13 [==============================] - 0s 2ms/step - loss: 0.0195 - accuracy: 0.2475\n",
            "Epoch 33/60\n",
            "13/13 [==============================] - 0s 2ms/step - loss: 0.0178 - accuracy: 0.2475\n",
            "Epoch 34/60\n",
            "13/13 [==============================] - 0s 2ms/step - loss: 0.0164 - accuracy: 0.2475\n",
            "Epoch 35/60\n",
            "13/13 [==============================] - 0s 2ms/step - loss: 0.0151 - accuracy: 0.2475\n",
            "Epoch 36/60\n",
            "13/13 [==============================] - 0s 2ms/step - loss: 0.0139 - accuracy: 0.2475\n",
            "Epoch 37/60\n",
            "13/13 [==============================] - 0s 3ms/step - loss: 0.0129 - accuracy: 0.2475\n",
            "Epoch 38/60\n",
            "13/13 [==============================] - 0s 2ms/step - loss: 0.0120 - accuracy: 0.2475\n",
            "Epoch 39/60\n",
            "13/13 [==============================] - 0s 2ms/step - loss: 0.0112 - accuracy: 0.2475\n",
            "Epoch 40/60\n",
            "13/13 [==============================] - 0s 2ms/step - loss: 0.0104 - accuracy: 0.2475\n",
            "Epoch 41/60\n",
            "13/13 [==============================] - 0s 2ms/step - loss: 0.0098 - accuracy: 0.2475\n",
            "Epoch 42/60\n",
            "13/13 [==============================] - 0s 2ms/step - loss: 0.0092 - accuracy: 0.2475\n",
            "Epoch 43/60\n",
            "13/13 [==============================] - 0s 2ms/step - loss: 0.0086 - accuracy: 0.2475\n",
            "Epoch 44/60\n",
            "13/13 [==============================] - 0s 2ms/step - loss: 0.0081 - accuracy: 0.2475\n",
            "Epoch 45/60\n",
            "13/13 [==============================] - 0s 2ms/step - loss: 0.0077 - accuracy: 0.2475\n",
            "Epoch 46/60\n",
            "13/13 [==============================] - 0s 2ms/step - loss: 0.0072 - accuracy: 0.2475\n",
            "Epoch 47/60\n",
            "13/13 [==============================] - 0s 3ms/step - loss: 0.0068 - accuracy: 0.2475\n",
            "Epoch 48/60\n",
            "13/13 [==============================] - 0s 2ms/step - loss: 0.0065 - accuracy: 0.2475\n",
            "Epoch 49/60\n",
            "13/13 [==============================] - 0s 2ms/step - loss: 0.0062 - accuracy: 0.2475\n",
            "Epoch 50/60\n",
            "13/13 [==============================] - 0s 2ms/step - loss: 0.0059 - accuracy: 0.2475\n",
            "Epoch 51/60\n",
            "13/13 [==============================] - 0s 2ms/step - loss: 0.0056 - accuracy: 0.2475\n",
            "Epoch 52/60\n",
            "13/13 [==============================] - 0s 2ms/step - loss: 0.0053 - accuracy: 0.2475\n",
            "Epoch 53/60\n",
            "13/13 [==============================] - 0s 2ms/step - loss: 0.0051 - accuracy: 0.2475\n",
            "Epoch 54/60\n",
            "13/13 [==============================] - 0s 2ms/step - loss: 0.0048 - accuracy: 0.2475\n",
            "Epoch 55/60\n",
            "13/13 [==============================] - 0s 2ms/step - loss: 0.0046 - accuracy: 0.2475\n",
            "Epoch 56/60\n",
            "13/13 [==============================] - 0s 2ms/step - loss: 0.0044 - accuracy: 0.2475\n",
            "Epoch 57/60\n",
            "13/13 [==============================] - 0s 2ms/step - loss: 0.0042 - accuracy: 0.2475\n",
            "Epoch 58/60\n",
            "13/13 [==============================] - 0s 2ms/step - loss: 0.0040 - accuracy: 0.2475\n",
            "Epoch 59/60\n",
            "13/13 [==============================] - 0s 2ms/step - loss: 0.0039 - accuracy: 0.2475\n",
            "Epoch 60/60\n",
            "13/13 [==============================] - 0s 2ms/step - loss: 0.0037 - accuracy: 0.2475\n"
          ]
        },
        {
          "output_type": "execute_result",
          "data": {
            "text/plain": [
              "<keras.callbacks.History at 0x7f8fc3869910>"
            ]
          },
          "metadata": {},
          "execution_count": 131
        }
      ]
    },
    {
      "cell_type": "code",
      "source": [
        "Y_predicted = model.predict(X_test)\n",
        "Y_predicted[0]"
      ],
      "metadata": {
        "colab": {
          "base_uri": "https://localhost:8080/"
        },
        "id": "6pVuBxE0HDsE",
        "outputId": "d2929b4e-84a9-470c-d146-5422721ed9fe"
      },
      "execution_count": 124,
      "outputs": [
        {
          "output_type": "execute_result",
          "data": {
            "text/plain": [
              "array([0.99535275, 0.99706316, 0.9920427 , 0.9974089 ], dtype=float32)"
            ]
          },
          "metadata": {},
          "execution_count": 124
        }
      ]
    },
    {
      "cell_type": "code",
      "source": [
        "np.argmax(Y_predicted[0])"
      ],
      "metadata": {
        "colab": {
          "base_uri": "https://localhost:8080/"
        },
        "id": "FRiaLOSBIwzl",
        "outputId": "d2c129c5-de73-4b18-d145-f6a7eab59477"
      },
      "execution_count": 125,
      "outputs": [
        {
          "output_type": "execute_result",
          "data": {
            "text/plain": [
              "3"
            ]
          },
          "metadata": {},
          "execution_count": 125
        }
      ]
    },
    {
      "cell_type": "code",
      "source": [
        "X_test[0]"
      ],
      "metadata": {
        "colab": {
          "base_uri": "https://localhost:8080/"
        },
        "id": "trnOpTOaI5hq",
        "outputId": "f0f9e6b5-5223-40b8-bd06-a382cbca0d9a"
      },
      "execution_count": 128,
      "outputs": [
        {
          "output_type": "execute_result",
          "data": {
            "text/plain": [
              "array([1.0103333 , 0.28266665, 0.29466668, 0.31166667, 0.31866667,\n",
              "       0.31933334, 0.395     , 0.407     , 0.42833334, 0.44266665,\n",
              "       0.46266666], dtype=float32)"
            ]
          },
          "metadata": {},
          "execution_count": 128
        }
      ]
    },
    {
      "cell_type": "code",
      "source": [
        ""
      ],
      "metadata": {
        "id": "3jUF3qRMJEKy"
      },
      "execution_count": null,
      "outputs": []
    },
    {
      "cell_type": "code",
      "source": [
        ""
      ],
      "metadata": {
        "id": "Jv2JLjj-JUgj"
      },
      "execution_count": null,
      "outputs": []
    }
  ]
}